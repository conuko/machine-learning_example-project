{
 "cells": [
  {
   "attachments": {},
   "cell_type": "markdown",
   "metadata": {},
   "source": [
    "# Hyper-parameter selection\n",
    "\n",
    "In this notebook we carry out an experiment to identify the best hyper-parameters for our network.\n",
    "\n",
    "This notebook builds on the results of overfitting_experimentation.ipynb:\n",
    "- We will use regularization, dropount and weight constraints for our models.\n",
    "- We will use image generators with rotation and shift for image data preprocessing.\n",
    "- We will focus on models in the low-complexity end of CNNs. This means  we will \n",
    "    - no more than 2 convolutional layers\n",
    "    - no more than 1000 Neurons in fully connected layers\n",
    "    - no more than 2 fully connected layers.\n",
    "\n",
    "To find the best network structure, we will experiment with different configurtations of fully connected and convolutional layers. We will perform a Grid Search to ifentify the best structure. \n",
    "\n",
    "But first .. let's do the imports."
   ]
  },
  {
   "cell_type": "code",
   "execution_count": 14,
   "metadata": {},
   "outputs": [],
   "source": [
    "# correct working directory only once \n",
    "if not \"working_directory_corrected\" in vars():\n",
    "    %cd ..\n",
    "    working_directory_corrected = True\n",
    "\n",
    "import pickle\n",
    "import pandas as pd"
   ]
  },
  {
   "attachments": {},
   "cell_type": "markdown",
   "metadata": {},
   "source": [
    "## Grid Search\n",
    "\n",
    "For the grid search we will test all combinations of the following options:\n",
    "- Convolutional Layers:\n",
    "     - We will test one convolutional layer with 8, 16, 32 and 64 patterns\n",
    "     - We will test two convolutional layers with a 8, 16, 32 and 64 patterns in the first layer and half as many in the second layer.\n",
    "- Fully Connected Layer:\n",
    "     - We will test one fully connected layer with 25,50,100,250,500 and 1000 neurons.\n",
    "     - We will test two fully connected layers with 25,50,100,250,500 and 1000 neurons in each layer.\n",
    "\n",
    "Overall, this means our grid search will test 8*13 = 104 different configurations.\n",
    "\n",
    "As noted in our overfitting experiments, 10 runs per configuration still lead to some variation in results. For this reason, we will further increase the number of times we learn each configuration. Furthermore, we are concerned about the train/test split influencing our results. For this reason, we use cross validation (with 5 folds) to receive more robust results.  Overall, each configuration will be learned five times for each of the five folds. This means, we will learn each configuration 25 times.\n",
    "\n",
    "This means, the grid search will learn a machine learning model 104*25 = 3000 times. Depending on the machine this experiment runs on, this may take hours or even days. For this reason, we will not do this in the notebook environment. Instead, we have defined the script *scripts/hyper_parameter_selection.py* that will execute the experiment. Preferrably, this script is run on a cloud server. \n",
    "\n",
    "It stores results in a file which we can load and observe in this jupyter notebook. "
   ]
  },
  {
   "attachments": {},
   "cell_type": "markdown",
   "metadata": {},
   "source": [
    "## Results\n",
    "\n",
    "The results of executing the grid search is stored in pickle files in the folder *evaluation/experiment_records*. The results of the above described grid search is stored in *grid_search_results.pickle*. (Due to a configuration error we did not test the [50,50] for fully connected layers. The experiment will be repeated when there is time).\n",
    "\n",
    "Let's load the results."
   ]
  },
  {
   "cell_type": "code",
   "execution_count": 22,
   "metadata": {},
   "outputs": [
    {
     "data": {
      "text/html": [
       "<div>\n",
       "<style scoped>\n",
       "    .dataframe tbody tr th:only-of-type {\n",
       "        vertical-align: middle;\n",
       "    }\n",
       "\n",
       "    .dataframe tbody tr th {\n",
       "        vertical-align: top;\n",
       "    }\n",
       "\n",
       "    .dataframe thead th {\n",
       "        text-align: right;\n",
       "    }\n",
       "</style>\n",
       "<table border=\"1\" class=\"dataframe\">\n",
       "  <thead>\n",
       "    <tr style=\"text-align: right;\">\n",
       "      <th></th>\n",
       "      <th>CNN</th>\n",
       "      <th>ANN</th>\n",
       "      <th>Hamming</th>\n",
       "    </tr>\n",
       "  </thead>\n",
       "  <tbody>\n",
       "    <tr>\n",
       "      <th>0</th>\n",
       "      <td>[8]</td>\n",
       "      <td>[25]</td>\n",
       "      <td>0.1556</td>\n",
       "    </tr>\n",
       "    <tr>\n",
       "      <th>1</th>\n",
       "      <td>[8]</td>\n",
       "      <td>[50]</td>\n",
       "      <td>0.2008</td>\n",
       "    </tr>\n",
       "    <tr>\n",
       "      <th>2</th>\n",
       "      <td>[8]</td>\n",
       "      <td>[100]</td>\n",
       "      <td>0.2076</td>\n",
       "    </tr>\n",
       "    <tr>\n",
       "      <th>3</th>\n",
       "      <td>[8]</td>\n",
       "      <td>[250]</td>\n",
       "      <td>0.2080</td>\n",
       "    </tr>\n",
       "    <tr>\n",
       "      <th>4</th>\n",
       "      <td>[8]</td>\n",
       "      <td>[500]</td>\n",
       "      <td>0.2096</td>\n",
       "    </tr>\n",
       "    <tr>\n",
       "      <th>5</th>\n",
       "      <td>[8]</td>\n",
       "      <td>[1000]</td>\n",
       "      <td>0.1884</td>\n",
       "    </tr>\n",
       "    <tr>\n",
       "      <th>6</th>\n",
       "      <td>[8]</td>\n",
       "      <td>[25, 25]</td>\n",
       "      <td>0.1680</td>\n",
       "    </tr>\n",
       "  </tbody>\n",
       "</table>\n",
       "</div>"
      ],
      "text/plain": [
       "   CNN       ANN  Hamming\n",
       "0  [8]      [25]   0.1556\n",
       "1  [8]      [50]   0.2008\n",
       "2  [8]     [100]   0.2076\n",
       "3  [8]     [250]   0.2080\n",
       "4  [8]     [500]   0.2096\n",
       "5  [8]    [1000]   0.1884\n",
       "6  [8]  [25, 25]   0.1680"
      ]
     },
     "execution_count": 22,
     "metadata": {},
     "output_type": "execute_result"
    }
   ],
   "source": [
    "filename = \"evaluation/experiment_records/grid_search_results.pickle\"\n",
    "results = pickle.load(open(filename,\"rb\"))\n",
    "results = list(results.values())\n",
    "results_df = pd.DataFrame(results,columns=[\"CNN\",\"ANN\",\"Hamming\"])\n",
    "\n",
    "results_df"
   ]
  },
  {
   "attachments": {},
   "cell_type": "markdown",
   "metadata": {},
   "source": [
    "For conveniences sake we converted the results into a data frame with three columns:\n",
    "- CNN: the configuration of the convolutional part of the network\n",
    "- ANN: the configuration of the fully connected part of the network\n",
    "- Hamming: The average hamming score of all experiments\n",
    "\n",
    "To find the best configuration, we sort the list for the hamming score and have a look at the first ten results."
   ]
  },
  {
   "cell_type": "code",
   "execution_count": 21,
   "metadata": {},
   "outputs": [
    {
     "data": {
      "text/html": [
       "<div>\n",
       "<style scoped>\n",
       "    .dataframe tbody tr th:only-of-type {\n",
       "        vertical-align: middle;\n",
       "    }\n",
       "\n",
       "    .dataframe tbody tr th {\n",
       "        vertical-align: top;\n",
       "    }\n",
       "\n",
       "    .dataframe thead th {\n",
       "        text-align: right;\n",
       "    }\n",
       "</style>\n",
       "<table border=\"1\" class=\"dataframe\">\n",
       "  <thead>\n",
       "    <tr style=\"text-align: right;\">\n",
       "      <th></th>\n",
       "      <th>CNN</th>\n",
       "      <th>ANN</th>\n",
       "      <th>Hamming</th>\n",
       "    </tr>\n",
       "  </thead>\n",
       "  <tbody>\n",
       "    <tr>\n",
       "      <th>4</th>\n",
       "      <td>[8]</td>\n",
       "      <td>[500]</td>\n",
       "      <td>0.2096</td>\n",
       "    </tr>\n",
       "    <tr>\n",
       "      <th>3</th>\n",
       "      <td>[8]</td>\n",
       "      <td>[250]</td>\n",
       "      <td>0.2080</td>\n",
       "    </tr>\n",
       "    <tr>\n",
       "      <th>2</th>\n",
       "      <td>[8]</td>\n",
       "      <td>[100]</td>\n",
       "      <td>0.2076</td>\n",
       "    </tr>\n",
       "    <tr>\n",
       "      <th>1</th>\n",
       "      <td>[8]</td>\n",
       "      <td>[50]</td>\n",
       "      <td>0.2008</td>\n",
       "    </tr>\n",
       "    <tr>\n",
       "      <th>5</th>\n",
       "      <td>[8]</td>\n",
       "      <td>[1000]</td>\n",
       "      <td>0.1884</td>\n",
       "    </tr>\n",
       "    <tr>\n",
       "      <th>6</th>\n",
       "      <td>[8]</td>\n",
       "      <td>[25, 25]</td>\n",
       "      <td>0.1680</td>\n",
       "    </tr>\n",
       "    <tr>\n",
       "      <th>0</th>\n",
       "      <td>[8]</td>\n",
       "      <td>[25]</td>\n",
       "      <td>0.1556</td>\n",
       "    </tr>\n",
       "  </tbody>\n",
       "</table>\n",
       "</div>"
      ],
      "text/plain": [
       "   CNN       ANN  Hamming\n",
       "4  [8]     [500]   0.2096\n",
       "3  [8]     [250]   0.2080\n",
       "2  [8]     [100]   0.2076\n",
       "1  [8]      [50]   0.2008\n",
       "5  [8]    [1000]   0.1884\n",
       "6  [8]  [25, 25]   0.1680\n",
       "0  [8]      [25]   0.1556"
      ]
     },
     "execution_count": 21,
     "metadata": {},
     "output_type": "execute_result"
    }
   ],
   "source": [
    "\n",
    "results_df.sort_values(by = \"Hamming\", ascending = False, inplace = True)\n",
    "\n",
    "results_df.head(10)\n"
   ]
  },
  {
   "attachments": {},
   "cell_type": "markdown",
   "metadata": {},
   "source": [
    "## Conclusions\n",
    "Looking at the top ten configurations, we can make the following observations:\n",
    "\n",
    "\n",
    "The configuration that performed best was the following configuration:\n",
    "- CNN: 1 layer with 8 patterns\n",
    "- ANN: 1 layer with 500 neurons\n",
    "\n",
    "We will use this configuration for our evaluation.\n",
    "\n"
   ]
  }
 ],
 "metadata": {
  "kernelspec": {
   "display_name": "environment",
   "language": "python",
   "name": "python3"
  },
  "language_info": {
   "codemirror_mode": {
    "name": "ipython",
    "version": 3
   },
   "file_extension": ".py",
   "mimetype": "text/x-python",
   "name": "python",
   "nbconvert_exporter": "python",
   "pygments_lexer": "ipython3",
   "version": "3.10.7"
  },
  "orig_nbformat": 4,
  "vscode": {
   "interpreter": {
    "hash": "ab53a7abb5f76d8f9c9452b407a178cf94cc8aab5c0c1e9a6f1a2d94a40aba45"
   }
  }
 },
 "nbformat": 4,
 "nbformat_minor": 2
}
