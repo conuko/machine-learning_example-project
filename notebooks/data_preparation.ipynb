{
 "cells": [
  {
   "cell_type": "markdown",
   "metadata": {},
   "source": [
    "# Data Preparation\n",
    "\n",
    "\n",
    "The purpose of this notebook is to prepare a dataset that can be loaded directly into a machine learning model. \n",
    "For this purpose, we will use the data downloaded from Kaggle and reshape it so it fits what we want to do with it. We will then store it using the class Dataset. After running this notebook, the data can be retrieved by Dataset.get_prepared_data().\n"
   ]
  },
  {
   "cell_type": "code",
   "execution_count": 1,
   "metadata": {},
   "outputs": [
    {
     "name": "stdout",
     "output_type": "stream",
     "text": [
      "/Users/ninovationlab/Projects/AI/05-Teaching-Materials/01-ML-Example-Project\n"
     ]
    }
   ],
   "source": [
    "# correct working directory only once \n",
    "if not \"working_directory_corrected\" in vars():\n",
    "    %cd ..\n",
    "    working_directory_corrected = True\n",
    "\n",
    "import random\n",
    "import numpy as np\n",
    "import pandas as pd\n",
    "import matplotlib.pyplot as plt\n",
    "\n",
    "from PIL import Image\n",
    "from sklearn.preprocessing import MultiLabelBinarizer\n",
    "\n",
    "from data.dataset import Dataset\n",
    "\n",
    "dataset = Dataset()"
   ]
  },
  {
   "cell_type": "markdown",
   "metadata": {},
   "source": [
    "## What is our target format?\n",
    "\n",
    "Here we define the format in which we would like our data to be available. Our Machine Learning problem is image classification. Given an image, we want to classify which pokemon type this image represents. The problem is a multi-label problem because one pokemon may have multiple types. \n",
    "\n",
    "Formally, we would like our dataset to be:\n",
    "- X: One 120 x 120 x 3 vector, representing the image with r, g and b channels.\n",
    "- y: One multi-hot encoded vector, representing all labels predicted for this pokemon. "
   ]
  },
  {
   "attachments": {},
   "cell_type": "markdown",
   "metadata": {},
   "source": [
    "## Image Conversion\n",
    "\n",
    "Here, we create the X dataset by loading each image and converting it into a suitable numpy aray. \n",
    "\n",
    "First, let's define a function that does this for a single image. From inspecting our data in data_exploration.ipynb, we know that we need to take care of...\n",
    "1) reducing the channels for png images from 4 to 3\n",
    "2) adding white background to our png imgaes\n",
    "In addition, our function will convert the image values into numbers between 0 and 1, because machine learning models tend to work better with this type of input.\n",
    "\n",
    "After initial tests with model selection, we have returned to this cell and added one more preprocessing step:\n",
    "3) color inversion. Colors are inverted such that white becomes (0,0,0). This is done to make the background color, which is white, carry less active information and thus cause less active activation in a neural network. This was identified as a necessary step based on experiments with and without this operation which showed that Neural Networks perform significantly better with this preprocessing step (see model selection.ipynb)"
   ]
  },
  {
   "cell_type": "code",
   "execution_count": 2,
   "metadata": {},
   "outputs": [],
   "source": [
    "def image_to_array(image) -> np.ndarray:\n",
    "    # PNGs have 4 channels and need adjustments\n",
    "    if image.mode == \"RGBA\":\n",
    "        # add white background\n",
    "        white_bg = Image.new(mode='RGBA', size=image.size, color=(255, 255, 255))\n",
    "        image = Image.alpha_composite(im1=white_bg, im2=image)\n",
    "\n",
    "    # normalize to values between 0 and 1\n",
    "    data = np.array(object=image)\n",
    "    data = data.astype(dtype=np.float32) / 255\n",
    "\n",
    "    # Invert colors\n",
    "    data = 1-data\n",
    "\n",
    "    # Remove fourth channel, if it exists\n",
    "    return data[:,:,:3]"
   ]
  },
  {
   "cell_type": "markdown",
   "metadata": {},
   "source": [
    "Now we can apply thus function to each image to create our X dataset."
   ]
  },
  {
   "cell_type": "code",
   "execution_count": 3,
   "metadata": {},
   "outputs": [
    {
     "data": {
      "text/plain": [
       "(809, 120, 120, 3)"
      ]
     },
     "execution_count": 3,
     "metadata": {},
     "output_type": "execute_result"
    }
   ],
   "source": [
    "data = dataset.get_original_data()\n",
    "X = np.empty(shape=[len(data),120,120,3])\n",
    "\n",
    "for index in range(len(data)):\n",
    "    pokemon_name = data.Name[index]\n",
    "    pokemon_image = dataset.get_image(pokemon_name=pokemon_name)\n",
    "    pokemon_data = image_to_array(image=pokemon_image)\n",
    "    X[index] = pokemon_data\n",
    "\n",
    "X.shape"
   ]
  },
  {
   "cell_type": "markdown",
   "metadata": {},
   "source": [
    "## Label Encoding\n",
    "Second, we need to encode our labels. \n",
    "From data exploration, we know that we have a classification problem, where each pokemon may be associated with one or two classes. We will encode this using a MultiLabelBinarizer. The resulting encoding will be a vector of numbers, for example [0,1,1,0,0]. Each index represents a class. A 1 represents that the sample has this class and a 0 that it doesn't. \n",
    "\n",
    "As last time, let's create a convenience function first. This function will get a list of all laels for a pokemon. This is the format we will need for the LabelBinarizer"
   ]
  },
  {
   "cell_type": "code",
   "execution_count": 4,
   "metadata": {},
   "outputs": [],
   "source": [
    "def get_classes(category1, category2) -> list:\n",
    "    classes = [category1]\n",
    "\n",
    "    # Some classes are None. we only add them if they aren't\n",
    "    if not pd.isna(obj=category2):\n",
    "        classes.append(category2)\n",
    "\n",
    "    return classes"
   ]
  },
  {
   "cell_type": "markdown",
   "metadata": {},
   "source": [
    "Now we can use this function to produce the right input for the binarizer and use the binarizer to create our y dataset. We will feed the binarizer with the labels retrieved from dataset.get_labels. This way we can guarantee that we use the same order of labels regardless of which notebook we work in."
   ]
  },
  {
   "cell_type": "code",
   "execution_count": 5,
   "metadata": {},
   "outputs": [],
   "source": [
    "data = dataset.get_original_data()\n",
    "labels = dataset.get_labels()\n",
    "mlb = MultiLabelBinarizer(classes=list(labels))\n",
    "\n",
    "data[\"Combined_classes\"] = data.apply(lambda row: get_classes(row.Type1, row.Type2), axis=1)  # type: ignore\n",
    "y = mlb.fit_transform(data[\"Combined_classes\"])"
   ]
  },
  {
   "cell_type": "markdown",
   "metadata": {},
   "source": [
    "## Testing\n",
    "Theoretically, we are ready to store our data. Practically, it's always a good idea to check our data again to make sure we didn't make any mistakes.\n",
    "\n",
    "The below cell will pick a random pokemon and compare our prepared data to the actual data. By runing it a few times we should be able to convince ourselfes that our data processing has preserved the image and the original label."
   ]
  },
  {
   "cell_type": "code",
   "execution_count": 6,
   "metadata": {},
   "outputs": [
    {
     "name": "stdout",
     "output_type": "stream",
     "text": [
      "Testing sunkern at index 190\n",
      "\n",
      "Label vector:  [0 0 0 0 0 0 0 0 0 1 0 0 0 0 0 0 0 0]\n",
      "Original classes:  Grass nan\n",
      "Predicted classes:  ['Grass']\n"
     ]
    },
    {
     "data": {
      "image/png": "[encoded data removed]",
      "text/plain": [
       "<Figure size 600x300 with 2 Axes>"
      ]
     },
     "metadata": {},
     "output_type": "display_data"
    }
   ],
   "source": [
    "data = dataset.get_original_data()\n",
    "labels = dataset.get_labels()\n",
    "index = random.randint(a=0, b=len(data)) # insert specific index here, if you want to test with specific pokemon\n",
    "name = data.Name[index]\n",
    "image = dataset.get_image(name)\n",
    "converted_image = X[index]\n",
    "\n",
    "print(f\"Testing {name} at index {index}\", end=\"\\n\\n\")\n",
    "\n",
    "# Compare both images\n",
    "fig, axes = plt.subplots(nrows=1, ncols=2, figsize=(3*2, 3*1))\n",
    "axes[0].imshow(X=image) # type: ignore\n",
    "axes[0].set_title(label=\"Original\")\n",
    "axes[1].imshow(X=converted_image)\n",
    "axes[1].set_title(label=\"Processed\")\n",
    "\n",
    "plt.tight_layout()\n",
    "\n",
    "# Compare classes\n",
    "print(\"Label vector: \",y[index])\n",
    "print(\"Original classes: \", data.Type1[index], data.Type2[index])\n",
    "\n",
    "classes = []\n",
    "\n",
    "for label_index in range(len(labels)):\n",
    "    if y[index][label_index] == 1:\n",
    "        classes.append(labels[label_index])\n",
    "\n",
    "print(\"Predicted classes: \", classes)"
   ]
  },
  {
   "cell_type": "markdown",
   "metadata": {},
   "source": [
    "## Store Data\n",
    "Finally, we store data in a file so we can load and use it whenever we need to.\n",
    "The class Dataset provides store and load functionality for our prepared data. We just need to call it. "
   ]
  },
  {
   "cell_type": "code",
   "execution_count": 7,
   "metadata": {},
   "outputs": [],
   "source": [
    "dataset.store_prepared_data(X=X, y=y)   # type: ignore"
   ]
  }
 ],
 "metadata": {
  "kernelspec": {
   "display_name": "se15",
   "language": "python",
   "name": "python3"
  },
  "language_info": {
   "codemirror_mode": {
    "name": "ipython",
    "version": 3
   },
   "file_extension": ".py",
   "mimetype": "text/x-python",
   "name": "python",
   "nbconvert_exporter": "python",
   "pygments_lexer": "ipython3",
   "version": "3.10.9"
  },
  "orig_nbformat": 4,
  "vscode": {
   "interpreter": {
    "hash": "ebbb899cb0005443bfa616300d641c85a8846f57b75c5f76c6869ed90c5c3382"
   }
  }
 },
 "nbformat": 4,
 "nbformat_minor": 2
}
