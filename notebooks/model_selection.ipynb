{
 "cells": [
  {
   "attachments": {},
   "cell_type": "markdown",
   "metadata": {},
   "source": [
    "# Model Selection\n",
    "\n",
    "The purpose of this notebook is to select a class of models to pursue further for this problem.\n",
    "For this purpose we carry out an experiment to compare different types of machine learning models. The goal is to select a type of model to explore more in-depth in future experiments. \n",
    "\n",
    "The experiments in this notebook require the processed version of the dataset. You need to run data_preparation at least once before using this notebook.\n",
    "\n",
    "The sections of this notebook describe:\n",
    "1) Experiment Setup: The setup of the experiment. \n",
    "2) Evaluation Metrics: Discussing the metrics we use to compare models.\n",
    "3) Data Loading: Loading the data we base our experiments on\n",
    "4) Benchmarks: Finding a good simple comparison benchmark \n",
    "5) Simple Models: Experimenting with simple models, to find out which one works best.\n",
    "6) Neural Networks: Experimenting with neural network configurations to find out which one works best.\n",
    "7) Convolutional Neural Networks: Experimenting with convolutional neural network configurations to find out which one works. best. \n",
    "8) Evaluation: Comparison of all models based on the best versions determined in the respective sections.\n",
    "9) Conclusion: Summary of the experiment results and other observations made. "
   ]
  },
  {
   "cell_type": "code",
   "execution_count": 1,
   "metadata": {},
   "outputs": [
    {
     "name": "stdout",
     "output_type": "stream",
     "text": [
      "/Users/ninovationlab/Projects/AI/05-Teaching-Materials/01-ML-Example-Project\n"
     ]
    },
    {
     "name": "stderr",
     "output_type": "stream",
     "text": [
      "2023-01-08 23:07:19.817207: I tensorflow/core/platform/cpu_feature_guard.cc:193] This TensorFlow binary is optimized with oneAPI Deep Neural Network Library (oneDNN) to use the following CPU instructions in performance-critical operations:  AVX2 AVX512F AVX512_VNNI FMA\n",
      "To enable them in other operations, rebuild TensorFlow with the appropriate compiler flags.\n"
     ]
    }
   ],
   "source": [
    "# Correct working directory. But only once. \n",
    "if not \"working_directory_corrected\" in vars():\n",
    "    %cd ..\n",
    "    working_directory_corrected = True\n",
    "\n",
    "import random\n",
    "import numpy as np\n",
    "import matplotlib.pyplot as plt \n",
    "import pathlib\n",
    "import tensorflow as tf\n",
    "\n",
    "from sklearn.model_selection import train_test_split\n",
    "from sklearn.tree import DecisionTreeClassifier\n",
    "from sklearn.neighbors import KNeighborsClassifier\n",
    "from sklearn.ensemble import RandomForestClassifier\n",
    "from sklearn.linear_model import RidgeClassifier\n",
    "from sklearn.neighbors import RadiusNeighborsClassifier\n",
    "from sklearn.tree import ExtraTreeClassifier\n",
    "from sklearn.metrics import hamming_loss\n",
    "from keras.models import Sequential  # Model type to be used\n",
    "from keras.layers import (\n",
    "    Dense,\n",
    "    Activation,\n",
    "    Conv2D,\n",
    "    Conv3D,\n",
    "    LeakyReLU,\n",
    "    Dropout,\n",
    "    MaxPooling2D,\n",
    "    MaxPooling3D,\n",
    "    ZeroPadding2D,\n",
    "    GlobalAveragePooling2D,\n",
    "    Flatten\n",
    ")   # Types of layer to be used in our model\n",
    "\n",
    "from helpers.models import (\n",
    "    save_model,\n",
    "    load_model\n",
    ")\n",
    "from models.Majority_Guessing_Benchmark import MajorityGuessingBenchmark\n",
    "from models.Random_Guessing_Benchmark import RandomGuessingBenchmark\n",
    "from evaluation.evaluation_metrics import EvaluationMetrics\n",
    "from data.dataset import Dataset\n",
    "\n",
    "dataset = Dataset()\n",
    "\n",
    "tf.compat.v1.enable_eager_execution() "
   ]
  },
  {
   "attachments": {},
   "cell_type": "markdown",
   "metadata": {},
   "source": [
    "## Experiment Setup\n",
    "In this notebook we will compare multiple models based on their performance on the pokemon dataset. We will use the evaluation metrics discussed in Section Evaluation Metric. The following models will be compared:\n",
    "1) Naive Benchmark: A naive benchmark consisting of either majority or random guessing.\n",
    "2) Simple Model: A basic (non-neural network) machine learning model.\n",
    "3) ANN: A standard neural network.\n",
    "4) CNN: A Convolutional Neural Network.\n",
    "\n",
    "For each of the categroy we will carry out a smaller experiment to identify the best candidate / configuration of the respective category. This experiment will be done by manual exploration. The best version of each category will be compared against each other. \n",
    "\n",
    "The models are compared based on the same train/test split (be aware that it resets every time you run this notebook) but are not fixed to a random seed. This enables us to keep things comparable but to observe statistical variations stemming from randomness during the learning process. \n"
   ]
  },
  {
   "attachments": {},
   "cell_type": "markdown",
   "metadata": {},
   "source": [
    "## Evaluation Metrics:\n",
    "\n",
    "The problem we want to solve is a multilabel classification problem: Each pokemon is assigned one or more types. Some elaborations on this type of problem and the applicable evaluation metrics can be found [here](https://towardsdatascience.com/journey-to-the-center-of-multi-label-classification-384c40229bff). For comparing models, we have identified the following metrics:\n",
    "\n",
    "### Subset Accuracy = $\\frac{1}{n}\\sum_{i=1}^{n} I(Y_{true,i} = Y_{pred,i})$ \n",
    "\n",
    "This accuracy score counts all samples for which the predicted value $Y_{true,i}$ is the same as the expected value $Y_{pred,i}$ ($I$ turns the boolean comparison result into an integer with 1 being true and 0 being false). This metric is very strict. It does not distinguish between a completely wrong or partially wrong missclassification. \n",
    "\n",
    "### Hamming Score = $\\frac{1}{n} \\sum_{i=1}^{n} \\frac{|Y_{true,i} \\bigcap Y_{pred,i} |}{|Y_{true,i} \\bigcup Y_{pred,i} |}$\n",
    "\n",
    "This score is more fine-grained than the subset accuracy. It is perfect, if the predicted value $Y_{pred,i}$ is the same as $Y_{true,i}$ (the $\\bigcap$ and $\\bigcup$ operators are pairwise comparison of the labels and are the same if all labels are the same.) it gets smaller if there are wrong guesses or labels that haven't been recognized. There is also a hamming loss operation which operates after similar principles.\n",
    "\n",
    "\n",
    "### F1 Score \n",
    "\n",
    "The F1 score is applicable to binary classification. Since we have a multilabel classification problem, we can't apply it directly. However, we can apply it to each pokemon type exclusively. This will give us the ability to understand which classes are easy and which classes are hard for the model to detect. More details on how to apply F1 scores to multilabel problems can be found [here](https://www.baeldung.com/cs/multi-class-f1-score)\n",
    "\n",
    "### Summary\n",
    "\n",
    "For this experiment we will use the Hamming Score as main comparison criteria over the subset accuracy as we want partially right answers to positively influence our score. \n",
    "We will record both subset accuracy and F1 scores as well to get more data to make observations from.\n",
    "\n",
    "These metrics are calculated in the class EvaluationMetrics.  This class enables us to calculate all metrics based on a prediction and bundle them for comparison. It also provides a function for printing them to command line for manual inspection.\n",
    "\n"
   ]
  },
  {
   "attachments": {},
   "cell_type": "markdown",
   "metadata": {},
   "source": [
    "## Data Loading\n",
    "\n",
    "Let's load our data and split it in training and test data. This cell assumes that the data preparation has already been done and store via the Dataset class.\n",
    "\n",
    "The input requirements for some of our models are different. Our data is currenty optimized around CNNs, which require a three-dimensional matrix. Our other models will require vectors. For this reason, we also prepare *X_train_flat* and *X_test_flat*, which are reshaped versions of the original dataset to fit these models.\n",
    "\n",
    "For the CNN we will also use a different feature vector for training with the softmax function. We prepare the dataset y_train_prob appropriately.\n",
    "\n",
    "Note that we didn't use a seed for the train test split on purpose. If you rerun this notebook you will get different results. This is on purpose to enable us to double-check our conclusions on different splits. For the experiments reported un underneith, we have run this cell only once so we can use the same train/test split for comparison purposes."
   ]
  },
  {
   "cell_type": "code",
   "execution_count": 2,
   "metadata": {},
   "outputs": [],
   "source": [
    "X, y = dataset.get_prepared_data()\n",
    "\n",
    "X_train, X_test, y_train, y_test = train_test_split(X, y, test_size=0.2)\n",
    "\n",
    "X_train_flat = X_train.reshape(X_train.shape[0],X_train.shape[1]*X_train.shape[2]*X_train.shape[3]) # type: ignore\n",
    "X_test_flat = X_test.reshape(X_test.shape[0],X_test.shape[1]*X_test.shape[2]*X_test.shape[3])   # type: ignore\n",
    "\n",
    "y_train_prob = np.array([y_train[i] for i in range(len(y_train))])"
   ]
  },
  {
   "attachments": {},
   "cell_type": "markdown",
   "metadata": {},
   "source": [
    "## Benchmarks\n",
    "\n",
    "Two simple benchmarks are possible for this problem:\n",
    "* Random Guessing: Guesses a random class for each pokemon (and only one)\n",
    "* Majority Class Guessing: Always Guesses the Majority class \"Water (identified in data_exploration.ipynb)\n",
    "\n",
    "In the following cells, we run the models and save/print the results on the test set. Since these models are not actually learning anything we are not concerned with overfitting and thus omit the results on the training set. "
   ]
  },
  {
   "cell_type": "code",
   "execution_count": 3,
   "metadata": {},
   "outputs": [
    {
     "name": "stdout",
     "output_type": "stream",
     "text": [
      "\n",
      "Random Guessing - Test Set\n",
      "- subset accuracy: 4 %\n",
      "- hamming score 0.06\n",
      "- f1-scores:  [0.16       0.         0.         0.1        0.13333333 0.\n",
      " 0.1        0.         0.15384615 0.         0.         0.\n",
      " 0.1025641  0.10526316 0.         0.10526316 0.16666667 0.        ]\n"
     ]
    }
   ],
   "source": [
    "model = RandomGuessingBenchmark(dataset.get_labels())\n",
    "y_pred_test = model.predict(X=X_test)   # type: ignore\n",
    "random_test_metrics = EvaluationMetrics(y_true=y_test, y_pred=y_pred_test) # type: ignore\n",
    "\n",
    "random_test_metrics.print_evaluation_report(test_description=\"Random Guessing - Test Set\")"
   ]
  },
  {
   "cell_type": "code",
   "execution_count": 4,
   "metadata": {},
   "outputs": [
    {
     "name": "stdout",
     "output_type": "stream",
     "text": [
      "\n",
      "Majority Guessing - Test Set\n",
      "- subset accuracy: 9 %\n",
      "- hamming score 0.12\n",
      "- f1-scores:  [0.         0.         0.         0.         0.         0.\n",
      " 0.         0.         0.         0.         0.         0.\n",
      " 0.         0.         0.         0.         0.         0.25806452]\n"
     ]
    }
   ],
   "source": [
    "model = MajorityGuessingBenchmark(dataset.get_labels(), \"Water\")\n",
    "y_pred_test = model.predict(X=X_test) # type: ignore\n",
    "majority_test_metrics = EvaluationMetrics(y_true=y_test, y_pred=y_pred_test)  # type: ignore\n",
    "\n",
    "majority_test_metrics.print_evaluation_report(test_description=\"Majority Guessing - Test Set\")"
   ]
  },
  {
   "attachments": {},
   "cell_type": "markdown",
   "metadata": {},
   "source": [
    "Comparing both benchmarks, we notice that majority class guessing usually performs better than random guessing. It reached a hamming score of 0.12. We will thus use majority guessing as the best representation of a benchmark model. "
   ]
  },
  {
   "attachments": {},
   "cell_type": "markdown",
   "metadata": {},
   "source": [
    "## Simple Model\n",
    "Here we test simple models on their performance for our data set.\n",
    "To identify simple models that could be applicable we referred to the [Scikit-Learn Documentation ](https://scikit-learn.org/stable/modules/multiclass.html). We have tested all models capable of multiclass and multioutput classification. Ridge Classifiers were not listed  in this category but are also applicable.\n",
    "\n",
    "Experimantation in this cell is done by hand by testing out different models with different hyper-parameter settings. During the experiment, observations are recorded below the cell."
   ]
  },
  {
   "cell_type": "code",
   "execution_count": 5,
   "metadata": {},
   "outputs": [
    {
     "name": "stdout",
     "output_type": "stream",
     "text": [
      "\n",
      "Simple Classifier - Training Set\n",
      "- subset accuracy: 100 %\n",
      "- hamming score 1.0\n",
      "- f1-scores:  [1. 1. 1. 1. 1. 1. 1. 1. 1. 1. 1. 1. 1. 1. 1. 1. 1. 1.]\n",
      "\n",
      "Simple Classifier - Test Set\n",
      "- subset accuracy: 6 %\n",
      "- hamming score 0.13\n",
      "- f1-scores:  [0.1025641  0.11111111 0.13333333 0.19047619 0.19047619 0.1\n",
      " 0.         0.21276596 0.0952381  0.0625     0.         0.11764706\n",
      " 0.12765957 0.16666667 0.10526316 0.25806452 0.         0.37037037]\n"
     ]
    }
   ],
   "source": [
    "model = DecisionTreeClassifier() # depth = 10\n",
    "# model = KNeighborsClassifier(n_neighbors = 3)\n",
    "# model = RandomForestClassifier(max_depth=10)\n",
    "# model = RidgeClassifier()\n",
    "# model = RadiusNeighborsClassifier(radius = 70)\n",
    "# model = ExtraTreeClassifier()\n",
    "\n",
    "model.fit(X=X_train_flat, y=y_train)\n",
    "\n",
    "y_pred_train = model.predict(X=X_train_flat)\n",
    "simple_test_metrics = EvaluationMetrics(y_true=y_train, y_pred=y_pred_train)   # type: ignore\n",
    "simple_test_metrics.print_evaluation_report(test_description=\"Simple Classifier - Training Set\")\n",
    "\n",
    "y_pred_test = model.predict(X=X_test_flat)\n",
    "simple_test_metrics = EvaluationMetrics(y_true=y_test, y_pred=y_pred_test) # type: ignore\n",
    "simple_test_metrics.print_evaluation_report(test_description=\"Simple Classifier - Test Set\")"
   ]
  },
  {
   "attachments": {},
   "cell_type": "markdown",
   "metadata": {},
   "source": [
    "### Experiment Notes\n",
    "During the experiment the following observations were recorded:\n",
    "- **Decision Trees**: Without any restrictions, a Decision Tree Classifier has managed to get perfect scores on the training set. On the test set, it exhibits an accuracy of around 9% and a hamming sore of around 0.14. To limit this obvious overfitting, we tried to experiment with the parameters *max_depth*, *min_samples_split* and *min_samples_leaf*. Using these parameters, it is possible to reduce the training scores, but the test scores did not improve  in our tests. During testing, we also noticed that the results are not very stable. They vary with reruns of the model on the sama datset.  In our tests they lie usually between accuracies of 7% and 10%  hamming scores of 0.1 and 0.15 a\n",
    "- **Extra Tree Classifier**: Behaved similarly to the Decision Tree Classifier. The scores achieved on the test set were consistently below those seen in decision tree classifiers. \n",
    "- **Random Forest Classifier**: Random Forest Classifiers had a hard time classifying the test set. They seem to have overfit worse than decision trees and achieved zero scores on the test set even for low numbers of depths. Testing with different traing/test splits did not change this in our experiments. \n",
    "- **K Neighbors**: This classifier was tested with different numbers of neighbors and performed best with 3 neighbors. It achieves an accuracy of 4% and a hamming score of 0.06\n",
    "- **Radius Neighbors Classifier**: To use this classifier for the test set, the radius had to be increased quite a lot (Otherwise, it wouldn't find a result). With this huge radius the performance on the training set is close to zero and zero on the training set.\n",
    "- **Ridge Classifier**: The linear model ridge classifier achieved perfect scores on the training set and an accuracy of 3% and a hamming score of 0.1 on the test set. \n",
    "\n",
    "### Results\n",
    "\n",
    "Based on our tests, the Decision Tree Classifier produced the best results with a hamming sore of around 0.15 and will be used as benachmark for a simple model for this test.\n",
    "\n",
    "As stated above, this number is on the high end for this model and may be lower if re-run. However, since we expect this model to be outperformed by the other ones, we will use 0.15 for comparison for now and potentially revisit this with a more statistically sound recording of multiple runs in case we need to get more fine-grained numbers.\n",
    "\n",
    "It should be noted that Ridge Classifiers achieved Hamming scores almost as good as te Decision Tree classifier. Should our experiments with Neural Networks fail, we would consider this classifier as a possible candidate as well. \n"
   ]
  },
  {
   "attachments": {},
   "cell_type": "markdown",
   "metadata": {},
   "source": [
    "## Neural Networks\n",
    "Here we test artificial neural networks on our pokemon classification. These networks are applied to the flattened version of the dataset. \n",
    "\n",
    "### Training Configuration\n",
    "\n",
    "To find a suitable training setup we carried out some preliminary experiments with different configurations. As a result we arrived at a reasonable training setup that will be used for the actual experiments. The design decisions made are reported here.\n",
    "\n",
    "To make neural networks compatible with our loss function we used a sigmoid activation function for the output layer in combination with binary crossentropy as loss metric. This essentially re-interprets the problem as a classification problem with 18 outputs and applies binary crossentropy to each. We also experimented with the softmax function as activation function (still combined with binary crossentropy) in the hope that it would cope better with the sparse class vector. While this function didn't perform better than sigmoid in our tests, it also did not perform significantly worse. \n",
    "\n",
    "During initial experimentation we identified the following information relevant to the training configuration:\n",
    "- Neural Networks perform significantly better on inverted images. Our assumption is that this is due to the fact that the background, which is meaningless to our problem, is associated with a (0,0,0) value in this version. The data preparation notebook was updated accordingly and now reflects this preprocessing step. Experiments on the simple and benchmark model have been rerun with the adjusted dataset. \n",
    "- Initial experiments showed overfitting issues. In all experiments, the test loss diverged from the traning loss eventually. The exact epoch depended on the size of the model and the loss function. For this reason, it was decided to implement an early stopping callback that stops the traning process if no improvement on the test score has been achieved for five epochs. In this case, the configuration with the best validation loss is restored. \n",
    "- It was noted that a classification threshold of 0.15 leads to the best interpretation of the classification results, likely due to the high sparsity of the label vectors. \n"
   ]
  },
  {
   "attachments": {},
   "cell_type": "markdown",
   "metadata": {},
   "source": [
    "### Experiment Procedure\n",
    "To find a good network configuration we used the following manual procedure in which we run the below cell and record the results to make design decisions on what to explore next. This procedure was mainly based on personal judgement but followed the following loose procedure:\n",
    "- Only the hamming score on the test set was considered during making decisions.\n",
    "- The initial tested configuration was a network with one hidden layer of 100 neurons.\n",
    "- We explored the influence of increasing neuron size, adding layers.\n",
    "- We test different transfer functions (tanh, relu, leaky relu). These tests are performed initially - to identify which one works best - and sporadically when the network structure has changes sufficiently that we think another function may be able to perform better.\n",
    "- We gave a maximum of ten minutes for a training run. If the training was not finished by that time we stop it.\n",
    "- For each run we record the tested configuration, training accuracy and hamming score, test accuracy and hamming score, training epochs, training time. An optional comment is kept to preserve notes made during training"
   ]
  },
  {
   "cell_type": "code",
   "execution_count": 6,
   "metadata": {},
   "outputs": [
    {
     "name": "stderr",
     "output_type": "stream",
     "text": [
      "2023-01-08 11:43:49.264041: I tensorflow/core/platform/cpu_feature_guard.cc:193] This TensorFlow binary is optimized with oneAPI Deep Neural Network Library (oneDNN) to use the following CPU instructions in performance-critical operations:  AVX2 AVX512F AVX512_VNNI FMA\n",
      "To enable them in other operations, rebuild TensorFlow with the appropriate compiler flags.\n"
     ]
    },
    {
     "name": "stdout",
     "output_type": "stream",
     "text": [
      "Model: \"Sequential_NN_Model\"\n",
      "_________________________________________________________________\n",
      " Layer (type)                Output Shape              Param #   \n",
      "=================================================================\n",
      " dense (Dense)               (None, 1000)              43201000  \n",
      "                                                                 \n",
      " activation (Activation)     (None, 1000)              0         \n",
      "                                                                 \n",
      " dense_1 (Dense)             (None, 18)                18018     \n",
      "                                                                 \n",
      " activation_1 (Activation)   (None, 18)                0         \n",
      "                                                                 \n",
      "=================================================================\n",
      "Total params: 43,219,018\n",
      "Trainable params: 43,219,018\n",
      "Non-trainable params: 0\n",
      "_________________________________________________________________\n"
     ]
    }
   ],
   "source": [
    "# Model initialization\n",
    "model = Sequential(name=\"Sequential_NN\")\n",
    "\n",
    "model.add(Dense(units=1000, input_shape=(X_train_flat.shape[1],))) \n",
    "model.add(Activation(activation=\"tanh\"))\n",
    "model.add(Dense(y_train.shape[1]))  # type: ignore\n",
    "model.add(Activation(activation=\"sigmoid\"))\n",
    "\n",
    "model.compile(loss=\"binary_crossentropy\", optimizer=\"adam\", run_eagerly=True)\n",
    "model.summary()"
   ]
  },
  {
   "cell_type": "code",
   "execution_count": 7,
   "metadata": {},
   "outputs": [
    {
     "name": "stdout",
     "output_type": "stream",
     "text": [
      "Epoch 1/100\n",
      "21/21 [==============================] - 12s 542ms/step - loss: 0.3957 - val_loss: 0.2913\n",
      "Epoch 2/100\n",
      "21/21 [==============================] - 11s 536ms/step - loss: 0.2721 - val_loss: 0.2937\n",
      "Epoch 3/100\n",
      "21/21 [==============================] - 11s 533ms/step - loss: 0.2545 - val_loss: 0.2780\n",
      "Epoch 4/100\n",
      "21/21 [==============================] - 11s 539ms/step - loss: 0.2405 - val_loss: 0.2816\n",
      "Epoch 5/100\n",
      "21/21 [==============================] - 11s 542ms/step - loss: 0.2242 - val_loss: 0.2723\n",
      "Epoch 6/100\n",
      "21/21 [==============================] - 11s 536ms/step - loss: 0.2039 - val_loss: 0.2849\n",
      "Epoch 7/100\n",
      "21/21 [==============================] - 11s 538ms/step - loss: 0.1882 - val_loss: 0.2806\n",
      "Epoch 8/100\n",
      "21/21 [==============================] - 11s 537ms/step - loss: 0.1644 - val_loss: 0.2960\n",
      "Epoch 9/100\n",
      "21/21 [==============================] - 11s 533ms/step - loss: 0.1481 - val_loss: 0.2904\n",
      "Epoch 10/100\n",
      "21/21 [==============================] - 12s 558ms/step - loss: 0.1309 - val_loss: 0.2889\n"
     ]
    },
    {
     "data": {
      "image/png": "[encoded data removed]",
      "text/plain": [
       "<Figure size 640x480 with 1 Axes>"
      ]
     },
     "metadata": {},
     "output_type": "display_data"
    },
    {
     "name": "stdout",
     "output_type": "stream",
     "text": [
      "Stopped training after 10, epochs!\n",
      "21/21 [==============================] - 0s 22ms/step\n",
      "\n",
      "Artificial Neural Network - Training Set\n",
      "- subset accuracy: 17 %\n",
      "- hamming score 0.43\n",
      "- f1-scores:  [0.52564103 0.50909091 0.56603774 0.57575758 0.69565217 0.62162162\n",
      " 0.6        0.63736264 0.56140351 0.47435897 0.55421687 0.51282051\n",
      " 0.50657895 0.40506329 0.57324841 0.43589744 0.28       0.61073826]\n",
      "6/6 [==============================] - 0s 20ms/step\n",
      "\n",
      "Artificial Neural Network - Test Set\n",
      "- subset accuracy: 4 %\n",
      "- hamming score 0.2\n",
      "- f1-scores:  [0.26086957 0.         0.18181818 0.         0.22222222 0.2\n",
      " 0.36363636 0.5625     0.         0.28985507 0.18181818 0.\n",
      " 0.30952381 0.18518519 0.22857143 0.11764706 0.         0.42857143]\n"
     ]
    }
   ],
   "source": [
    "# Train mode\n",
    "early_stopping = tf.keras.callbacks.EarlyStopping(\n",
    "    monitor=\"val_loss\",\n",
    "    patience=5,restore_best_weights=True\n",
    ")\n",
    "history = model.fit(\n",
    "    x=X_train_flat,\n",
    "    y=y_train,\n",
    "    epochs=100,\n",
    "    validation_data=(X_test_flat, y_test),\n",
    "    callbacks=[early_stopping]\n",
    ")\n",
    "\n",
    "# Plot training history\n",
    "plt.plot(history.history[\"loss\"], label=\"training loss\")\n",
    "plt.plot(history.history[\"val_loss\"], label=\"validation loss\")\n",
    "plt.title(\"loss function\")\n",
    "plt.ylabel(\"loss\")\n",
    "plt.xlabel(\"epoch\")\n",
    "plt.show()\n",
    "\n",
    "# Plot training results\n",
    "print(f\"Stopped training after {len(history.epoch)}, epochs!\")\n",
    "\n",
    "y_pred = model.predict(x=X_train_flat) > 0.15\n",
    "ann_train_metrics = EvaluationMetrics(y_true=y_train, y_pred=y_pred)   # type: ignore\n",
    "ann_train_metrics.print_evaluation_report(test_description=\"Artificial Neural Network - Training Set\")\n",
    "\n",
    "y_pred_test = model.predict(x=X_test_flat) > 0.15\n",
    "ann_test_metrics = EvaluationMetrics(y_true=y_test, y_pred=y_pred_test)    # type: ignore\n",
    "ann_test_metrics.print_evaluation_report(test_description=\"Artificial Neural Network - Test Set\")"
   ]
  },
  {
   "attachments": {},
   "cell_type": "markdown",
   "metadata": {},
   "source": [
    "### Experiment Notes\n",
    "\n",
    "The training values have been recorded in \"evaluation/experiment_records/Model Selection - ANN - Experiment.xlsx\" in Sheet \"Exploration Results\". \n",
    "\n",
    "\n",
    "During the manual exploration we noted down our thoughts and findings and how they influenced the process:\n",
    "- On the initial configuration, $tanh$ performed best. We continued experimenting with this transfer function. \n",
    "- We tried altering the model structure to learn a more simple model (10 neurons), a more complex model (1000 neurons) and a model with multiple layers (100,100). Both the introduction of more neurons and the additional layers increased the hamming score a little. The test with ten neurons had a learning curve that was a lot smoother (most other models tended to be finished learning meaningfull relations after one to five iterations), it also had the worst hamming score. From this we identified two avenues: 1) High Complexity Models with larger numbers of neurons and layers and 2) low complexity models trying to get a better generalization by low complexity. \n",
    "- High Complexity Models: In this category we tried extending the number of neurons to 1000,2000 and 5000 in the first layer and add more layers. At 5000 Neurons the test exceeded our time limit. The best result remained the network with a single layer and 1000 neurons.\n",
    "- Low Complexity Models: Testing in the low complexity area (< 100 neurons, single and multiple layers) yielded worse results than in the high complexity area.\n",
    "- To double-check the selection of transfer functions, some configurations were also tested with leaky rely and relu. The result confirmed that tanh also performed best in those configurations.\n",
    "\n",
    "Overall, the best score achieved was with two models: \n",
    "1) one layer with 1000 neurons and tanh function (0.19 hamming score)\n",
    "2) two layers with 100 neurons each and tanh function (018 hamming score)\n",
    "\n",
    "It was noted that the training usually stopped with a test loss between 027 and 0.28 and that the overall hamming scores of the tested variations are fairly close to each other. This raised some concerns about the influence of statistical variance on the previous exporation. \n",
    "\n",
    "### Statistical Variance\n",
    "\n",
    "To explore the statistical variance we ran the two best configurations ten time and recorded the results. They can be found in the same table in sheet \"Variance Test\". \n",
    "The statistical values of the hamming scores of both models are as follows:\n",
    "| Model| Min | Max | Mean | St. Dev |\n",
    "| ---- | --- | --- | ---- | ------- |\n",
    "| 1    | 0.16 | 0.19 | 0.179 | 0.009 |\n",
    "| 2    | 0.14 | 0.18 | 0.155 | 0.012 |\n",
    "\n",
    "According to these values, model 1 is the best one with a mean hamming score of 0.18. The standard deviations proofed to be around 0.01 and may well have influenced our exploration. However, since our main goal was to a pre-evaluation of neural networks, the results should still be sufficient.\n",
    "\n",
    "### Summary\n",
    "\n",
    "We identified a model with a single hidden layer of 1000 neurons and a tanh function to perform best for our dataset. This model reched an average score of 0.18. This will be the model we use for comparison with other models. \n",
    "\n",
    "As a side-note, this experiment showed that there are significiant overfitting issues. If neural networks are explored in the future, overfitting-avoidance mechanisms - such as dropout - may further increase performance.\n",
    "\n",
    "\n"
   ]
  },
  {
   "attachments": {},
   "cell_type": "markdown",
   "metadata": {},
   "source": [
    "## Convolutional Neural Networks\n",
    "Here we test convolutional neural networks on our pokemon classification. These networks are applied to the original version of the dataset.\n",
    "\n",
    "### Training Configuration\n",
    "\n",
    "To find good training parameters, we performed a pretest by exploring different setups manually. The outcomes are:\n",
    "- We noted that the softmax function (in combination with binary cross-entropy) performs significantly better than the sigmoid founction. Since this function will output a probability distribution we adjusted our test set by dividing each entry by the number of classes. This means, pokemon with 2 classes will have a 0.5 entry for each class instead of a 1. This should be compatible with the perfect outcome we would like to achieve for the softmax function.\n",
    "- Initial experiments showed overfitting issues similar to neural networks. We use the same callback mechanism for early stopping in this experiment. \n",
    "- It was noted that a classification threshold of 0.1 leads to the best interpretation of the classification results, likely due to the high sparsity of the label vectors. \n"
   ]
  },
  {
   "attachments": {},
   "cell_type": "markdown",
   "metadata": {},
   "source": [
    "### Experiment Procedure\n",
    "To find a good network configuration we used the following manual procedure on the below cell:\n",
    "- We optimize the hamming score on the test set. \n",
    "- We started with one convolutional layer (16 3x3 filters) and one hidden layer of 100 neurons and test different adjustments of the network complexity(more convolutional layers, more neurons, more dense layers, different filter sizes) step-wise\n",
    "- We tested different transfer functions (tanh, relu, leaky relu). These tests are performed, whenever the network architecture has achieved increased results.\n",
    "- Training is stopped if it exceeds ten minutes.\n",
    "- For each run we record the test configuration, training accuracy and hamming score, test accuracy and hamming score, training epochs, training time. An optional comment is kept to preserve notes made during training"
   ]
  },
  {
   "cell_type": "code",
   "execution_count": 3,
   "metadata": {},
   "outputs": [
    {
     "name": "stdout",
     "output_type": "stream",
     "text": [
      "Model: \"Sequential_CNN_Model\"\n",
      "_________________________________________________________________\n",
      " Layer (type)                Output Shape              Param #   \n",
      "=================================================================\n",
      " conv2d (Conv2D)             (None, 120, 120, 16)      448       \n",
      "                                                                 \n",
      " activation (Activation)     (None, 120, 120, 16)      0         \n",
      "                                                                 \n",
      " max_pooling2d (MaxPooling2D  (None, 60, 60, 16)       0         \n",
      " )                                                               \n",
      "                                                                 \n",
      " flatten (Flatten)           (None, 57600)             0         \n",
      "                                                                 \n",
      " dense (Dense)               (None, 100)               5760100   \n",
      "                                                                 \n",
      " activation_1 (Activation)   (None, 100)               0         \n",
      "                                                                 \n",
      " dense_1 (Dense)             (None, 18)                1818      \n",
      "                                                                 \n",
      " activation_2 (Activation)   (None, 18)                0         \n",
      "                                                                 \n",
      "=================================================================\n",
      "Total params: 5,762,366\n",
      "Trainable params: 5,762,366\n",
      "Non-trainable params: 0\n",
      "_________________________________________________________________\n"
     ]
    },
    {
     "name": "stderr",
     "output_type": "stream",
     "text": [
      "2023-01-08 23:07:31.322482: I tensorflow/core/platform/cpu_feature_guard.cc:193] This TensorFlow binary is optimized with oneAPI Deep Neural Network Library (oneDNN) to use the following CPU instructions in performance-critical operations:  AVX2 AVX512F AVX512_VNNI FMA\n",
      "To enable them in other operations, rebuild TensorFlow with the appropriate compiler flags.\n"
     ]
    }
   ],
   "source": [
    "# Build the model\n",
    "model = Sequential(\n",
    "    name=f\"Sequential_CNN\"\n",
    ")\n",
    "\n",
    "model.add(\n",
    "    layer=Conv2D(\n",
    "        filters=16,\n",
    "        kernel_size=(3, 3),\n",
    "        input_shape=(X_train.shape[1],X_train.shape[2],X_train.shape[3]), # type: ignore\n",
    "        padding=\"same\"\n",
    "    )\n",
    ")      \n",
    "model.add(layer=Activation(activation=\"tanh\"))  # LeakyReLU()\n",
    "model.add(layer=MaxPooling2D(pool_size=(2,2)))\n",
    "model.add(layer=Flatten())       \n",
    "model.add(layer=Dense(units=100))                                                 \n",
    "model.add(layer=Activation(activation=\"tanh\"))          \n",
    "model.add(layer=Dense(y_train.shape[1]))    # type: ignore\n",
    "model.add(layer=Activation(activation=\"softmax\"))\n",
    "\n",
    "model.compile(loss=\"binary_crossentropy\", optimizer=\"adam\", run_eagerly=True)\n",
    "model.summary()"
   ]
  },
  {
   "cell_type": "code",
   "execution_count": 10,
   "metadata": {},
   "outputs": [
    {
     "name": "stdout",
     "output_type": "stream",
     "text": [
      "Epoch 1/100\n",
      "21/21 [==============================] - 4s 193ms/step - loss: 0.3136 - val_loss: 0.2868\n",
      "Epoch 2/100\n",
      "21/21 [==============================] - 4s 193ms/step - loss: 0.2681 - val_loss: 0.2803\n",
      "Epoch 3/100\n",
      "21/21 [==============================] - 4s 201ms/step - loss: 0.2571 - val_loss: 0.2794\n",
      "Epoch 4/100\n",
      "21/21 [==============================] - 4s 199ms/step - loss: 0.2376 - val_loss: 0.2729\n",
      "Epoch 5/100\n",
      "21/21 [==============================] - 4s 189ms/step - loss: 0.2082 - val_loss: 0.2747\n",
      "Epoch 6/100\n",
      "21/21 [==============================] - 4s 190ms/step - loss: 0.1744 - val_loss: 0.2723\n",
      "Epoch 7/100\n",
      "21/21 [==============================] - 4s 195ms/step - loss: 0.1389 - val_loss: 0.2759\n",
      "Epoch 8/100\n",
      "21/21 [==============================] - 4s 200ms/step - loss: 0.1073 - val_loss: 0.2822\n",
      "Epoch 9/100\n",
      "21/21 [==============================] - 4s 201ms/step - loss: 0.0813 - val_loss: 0.2909\n",
      "Epoch 10/100\n",
      "21/21 [==============================] - 4s 201ms/step - loss: 0.0627 - val_loss: 0.2952\n",
      "Epoch 11/100\n",
      "21/21 [==============================] - 4s 202ms/step - loss: 0.0495 - val_loss: 0.3022\n"
     ]
    },
    {
     "data": {
      "image/png": "[encoded data removed]",
      "text/plain": [
       "<Figure size 640x480 with 1 Axes>"
      ]
     },
     "metadata": {},
     "output_type": "display_data"
    },
    {
     "name": "stdout",
     "output_type": "stream",
     "text": [
      "Stopped training after 11 epochs!\n",
      "21/21 [==============================] - 1s 53ms/step\n",
      "\n",
      "Convolutional Neural Network - Training Set\n",
      "- subset accuracy: 54 %\n",
      "- hamming score 0.76\n",
      "- f1-scores:  [0.83333333 0.87878788 0.98630137 0.95652174 0.77647059 0.92857143\n",
      " 0.79411765 0.87179487 0.95384615 0.74418605 0.8125     0.88\n",
      " 0.7027027  0.77037037 0.84137931 0.82828283 0.91764706 0.69127517]\n",
      "6/6 [==============================] - 0s 43ms/step\n",
      "\n",
      "Convolutional Neural Network - Test Set\n",
      "- subset accuracy: 3 %\n",
      "- hamming score 0.19\n",
      "- f1-scores:  [0.17777778 0.         0.28571429 0.13333333 0.21052632 0.2\n",
      " 0.32432432 0.46875    0.         0.31578947 0.11764706 0.\n",
      " 0.34666667 0.27027027 0.19512195 0.         0.11111111 0.31683168]\n"
     ]
    }
   ],
   "source": [
    "# Training\n",
    "early_stopping = tf.keras.callbacks.EarlyStopping(monitor=\"val_loss\", patience=5,restore_best_weights=True)\n",
    "history = model.fit(x=X_train, y=y_train_prob, epochs=100, validation_data=(X_test, y_test), callbacks=[early_stopping])\n",
    "\n",
    "# Plot training history\n",
    "plt.plot(history.history[\"loss\"], label='training loss')\n",
    "plt.plot(history.history[\"val_loss\"],label='validation loss')\n",
    "plt.title(\"loss function\")\n",
    "plt.ylabel(\"loss\")\n",
    "plt.xlabel(\"epoch\")\n",
    "plt.show()\n",
    "\n",
    "# Plot training results\n",
    "print(f\"Stopped training after {len(history.epoch)} epochs!\")\n",
    "\n",
    "y_pred = model.predict(x=X_train) > 0.1\n",
    "cnn_train_metrics = EvaluationMetrics(y_true=y_train, y_pred=y_pred)   # type: ignore\n",
    "cnn_train_metrics.print_evaluation_report(test_description=\"Convolutional Neural Network - Training Set\")\n",
    "\n",
    "y_pred_test = model.predict(x=X_test) > 0.1\n",
    "cnn_test_metrics = EvaluationMetrics(y_true=y_test, y_pred=y_pred_test)    # type: ignore\n",
    "cnn_test_metrics.print_evaluation_report(test_description=\"Convolutional Neural Network - Test Set\")"
   ]
  },
  {
   "attachments": {},
   "cell_type": "markdown",
   "metadata": {},
   "source": [
    "### Saving the Model\n",
    "\n",
    "There are many ways to save our model, but the most common one is to use the `.h5` file. In this project, when saving file, we will create a directory with a speciic version where it can contain more than one type of models or more than one version of models.\n",
    "\n",
    "The namiong convention for model's directory and file in this project are as follow:\n",
    "\n",
    "* For ML models:\n",
    "\n",
    "    * Directory: `<Model_Type>_<Extra_Information>_V_<Model_Version>`\n",
    "    * Model file name: `<Model_Type>_<Extra_Information>_v_<Model_Version`\n",
    "    * Example:\n",
    "\n",
    "        ```shell\n",
    "        DecisionTreeClassifier_Depth10_V_1/\n",
    "        ├── DecisionTreeClassifier_Depth10_v_1.h5\n",
    "        ├── DecisionTreeClassifier_Depth10_v_2.h5\n",
    "        ├── ...\n",
    "        ├── DecisionTreeClassifier_Depth10_v_n.h5\n",
    "        ```\n",
    "\n",
    "* For Deep Learning models:\n",
    "\n",
    "    * Directory: `<Model_Type>_<Network_Type>_V_<Model_Version>`\n",
    "    * Model file name: `<Model_Type>_<Network_Type>_v_<Model_Version`\n",
    "    * Example:\n",
    "\n",
    "        ```shell\n",
    "        Sequential_CNN_V_1/\n",
    "        ├── Sequential_CNN_v_1.h5\n",
    "        ├── Sequential_CNN_v_2.h5\n",
    "        ├── ...\n",
    "        ├── Sequential_CNN_v_n.h5\n",
    "        ```"
   ]
  },
  {
   "cell_type": "code",
   "execution_count": null,
   "metadata": {},
   "outputs": [],
   "source": [
    "save_model(\n",
    "    model=model,\n",
    "    model_name=model.name,\n",
    "    model_version=1,\n",
    "    model_dir_version=1\n",
    ")"
   ]
  },
  {
   "attachments": {},
   "cell_type": "markdown",
   "metadata": {},
   "source": [
    "### Load the Saved Model\n",
    "\n",
    "Now, after saving a model, we need to load it for further use. This can be achieve with loading the `.h5` file using the helper function in `helpers/models.py`."
   ]
  },
  {
   "cell_type": "code",
   "execution_count": 2,
   "metadata": {},
   "outputs": [
    {
     "name": "stderr",
     "output_type": "stream",
     "text": [
      "2023-01-08 18:47:19.349967: I tensorflow/core/platform/cpu_feature_guard.cc:193] This TensorFlow binary is optimized with oneAPI Deep Neural Network Library (oneDNN) to use the following CPU instructions in performance-critical operations:  AVX2 AVX512F AVX512_VNNI FMA\n",
      "To enable them in other operations, rebuild TensorFlow with the appropriate compiler flags.\n"
     ]
    },
    {
     "name": "stdout",
     "output_type": "stream",
     "text": [
      "Model: \"Sequential_CNN_Model\"\n",
      "_________________________________________________________________\n",
      " Layer (type)                Output Shape              Param #   \n",
      "=================================================================\n",
      " conv2d (Conv2D)             (None, 120, 120, 16)      448       \n",
      "                                                                 \n",
      " activation_2 (Activation)   (None, 120, 120, 16)      0         \n",
      "                                                                 \n",
      " max_pooling2d (MaxPooling2D  (None, 60, 60, 16)       0         \n",
      " )                                                               \n",
      "                                                                 \n",
      " flatten (Flatten)           (None, 57600)             0         \n",
      "                                                                 \n",
      " dense_2 (Dense)             (None, 100)               5760100   \n",
      "                                                                 \n",
      " activation_3 (Activation)   (None, 100)               0         \n",
      "                                                                 \n",
      " dense_3 (Dense)             (None, 18)                1818      \n",
      "                                                                 \n",
      " activation_4 (Activation)   (None, 18)                0         \n",
      "                                                                 \n",
      "=================================================================\n",
      "Total params: 5,762,366\n",
      "Trainable params: 5,762,366\n",
      "Non-trainable params: 0\n",
      "_________________________________________________________________\n"
     ]
    }
   ],
   "source": [
    "seq_cnn_model = load_model(\n",
    "    model_dir_name=\"Sequential_CNN_V_1\",\n",
    "    model_name=\"Sequential_CNN_v_1\"\n",
    ")\n",
    "\n",
    "seq_cnn_model.summary() # type: ignore"
   ]
  },
  {
   "attachments": {},
   "cell_type": "markdown",
   "metadata": {},
   "source": [
    "### Experiment Notes\n",
    "\n",
    "The training values have been recorded in \"evaluation/experiment_records/Model Selection - CNN - Experiment.xlsx\" in Sheet \"Exploration Results\". \n",
    "\n",
    "During the manual exploration we noted down our thoughts and findings and how they influenced the process:\n",
    "1) On the initial configuration, $tanh$ performed best, but the three transfer functions are so close that differences may be caused by variance. We continue with $tanh$ but will test the other functions again  on more complex network strutures where their differences may have a larger influence.\n",
    "2) We explored the effect of different filter sizes by increasing to 5x5 and 7x7 filters. This slightly dropped the hamming score from 0.22 to 0.21. While this difference may be attributed to variance, it shows that bigger filter sizes are not leading to significant improvements, while taking more training time. It was thus decided to stick with a 3x3 filter.\n",
    "3) Experiments with different filter numbers for the first layer showed that bigger filter numbers (32) come with slightly decreased hamming sores. In this experiment it was also apparent that the network overfit worse than with the lower number of filters. Testing smaller numbers of filters (8 and 4) showed no significant improvement. Since we will add additional convolutional layers in the next experiments, we will stay with 16 as filter number\n",
    "4) Experiments with multiple layers resulted in mixed results. The best hamming score (0.23) was achieved with two layers and 16 neurons each. Three convolutional layers tended to worsen the results. \n",
    "5) To double-check the better score with two convolutional layers we ran that configuration 2 more times. It turned out the 0.23 hamming score was a fluke. \n",
    "6) Varying the number of neurons in the fully connected layer showed that there is indeed a sweet spot around 100. Lowering the number too much (10) reduced the hamming score drastically. Increasing it too much (1000) led to worse hamming scores. It was also obvious that the model started to overfit quickly at around 500 to 1000 neurons. This is not visible in the recorded values since we record the model at the point of the best test score. in the case of 1000 neurons, the model was already close to a loss of 0 on the training set five iterations after the test and training scores diverged.\n",
    "7) We tried to increase the number of fully connected layers to two and  tried out different numbers of neurons for both. at 100,100 neurons, there was already obvious quick overfitting. For lower numbers of neurons (50,50 and 50,10) the results got noticably worse. \n",
    "8) We tried  increasin complexity in the convolutional part as well as the fully connected part. All tested combinations performed worse than our best so far. \n",
    "9) To re-validate the selection of *tanh*, we also ran one model with more convolutional and fully connected layers on *relu* and *leaky relu*. Again, all functions performed siilarly. \n",
    "\n",
    "\n",
    "Sumarizing, our initial model achieved one of the best scores (altough multiple scores were close). This model had 1 convolutional layer with 16 3x3 filters and one fully connected layer with 100 neurons. It achieved a socre of 0.22 hamming loss.\n",
    "\n",
    "Generally, all our models performed similarly well (with some exceptions). As with neural networks, we were able to observe that the best loss for the training set is similar for most models at around 0.26, dropping below 0.26 on only a few occasions. At that point, the training and test loss usually stared to diverge and the model started to overfit on the training set while achieving worse results on the test set. \n",
    "\n",
    "\n",
    "### Statistical Variance\n",
    "\n",
    "To have comparable values, we will run our best model ten times and record statistical information about the hamming score. The resulting values have been recorded in \"evaluation/experiment_records/Model Selection - CNN - Experiment.xlsx\" in Sheet \"Variance Tests\". \n",
    "\n",
    "| Model| Min | Max | Mean | St. Dev |\n",
    "| ---- | --- | --- | ---- | ------- |\n",
    "| 1    | 0.19 | 0.23 | 0.212 | 0.013 |\n",
    "\n",
    "According to these values, the model has a mean hamming score of 0.21. The standard deiation is 0.013, meaning a lot of the other configurations tested are within an expected deviation from this one. While this makes us unsure whether the selected configuration is indeed the best one, it suffices to identify it as a comparison candidate for this experiment.\n",
    "\n",
    "### Summary\n",
    "\n",
    "Summarizing, we can say that Neural Networks performed better than our simple model and our benchmark model. It beats these models by a minor margin that is nevertheless significant compared to the models own variation."
   ]
  },
  {
   "attachments": {},
   "cell_type": "markdown",
   "metadata": {},
   "source": [
    "## Evaluation\n",
    "\n",
    "Now that we have identified the best candidates for all categories, we can compare them against each other\n",
    "\n",
    "| Model Type                   | Hamming Score |\n",
    "| ---------------------------- | ------------- |\n",
    "| Benchmark (Majority Class)   |   0.12        |\n",
    "| Simple Model (DTC)           |   0.15        |\n",
    "| Neural Network               |   0.18        |\n",
    "| Convolutional Neural Network |   0.21        |\n",
    "\n",
    "Based on these numbers we note the following:\n",
    "* All machine learning models outperformed the simple benchmark - although not by much. In the case of the simple model, this is debatable as we used the maximum value we've seen for this comparison.\n",
    "* Neural Networks outperformed the simple model. Considering that we recorded the maximum value for the Hamming Score of the simple model and the average values of the neural networks, this is significant. The standard deviation of the neural network scores was around 0.1, which is significantly lower than the difference in scores. \n",
    "* Convolutional Neural Networks outperformed Neural Networks. Convolutional Neural Networks outperformed Neural Networks by 0.03 in the hamming score. Considering that the standard deviation of both is around 0.1, we consider this difference in scores to be significant. "
   ]
  },
  {
   "attachments": {},
   "cell_type": "markdown",
   "metadata": {},
   "source": [
    "## Summary\n",
    "\n",
    "From comparing our results we can conclude that Convolutional Neural Networks are the best option for further optimization. We will continue exploring our dataset based on this class of models.\n",
    "\n",
    "Furthermore, the experiments have give us some insights into the dataset and how it combines with different machine learning algorithms. These will become valuable in further experiments. We identified the following points:\n",
    "* All models had significant issues with overfitting. This is likely due to the small size and big variation of the dataset, which makes it hard to learn patterns that generalize to other pokemon. It is likely that this will require changes on the dataset as well as the models. \n",
    "* Our ten minute training time restriction did not proof to stop us from exploring interesting avenues. This may indicate that the dataset can be learned with relatively low complexity models. \n",
    "* The statistical variance of learning restarts was big compared to differences between model configurations. This indicates that future experiments should always be based on statistical measures of multiple runs rather than single test runs.\n",
    "* Rerunning this notebook shows that the scores achieved depend significantly on the test set. However, running the notebook multiple times showed that the CNN is still the best model in all cases. Thus, we assume the results reported transfer to other train-test splits\n",
    "\n",
    "\n"
   ]
  }
 ],
 "metadata": {
  "kernelspec": {
   "display_name": "se15",
   "language": "python",
   "name": "python3"
  },
  "language_info": {
   "codemirror_mode": {
    "name": "ipython",
    "version": 3
   },
   "file_extension": ".py",
   "mimetype": "text/x-python",
   "name": "python",
   "nbconvert_exporter": "python",
   "pygments_lexer": "ipython3",
   "version": "3.10.9"
  },
  "orig_nbformat": 4,
  "vscode": {
   "interpreter": {
    "hash": "ebbb899cb0005443bfa616300d641c85a8846f57b75c5f76c6869ed90c5c3382"
   }
  }
 },
 "nbformat": 4,
 "nbformat_minor": 2
}
