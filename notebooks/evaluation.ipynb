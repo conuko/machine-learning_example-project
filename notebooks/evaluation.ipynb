{
 "cells": [
  {
   "attachments": {},
   "cell_type": "markdown",
   "metadata": {},
   "source": [
    "# Evaluation\n",
    "\n",
    "In this notebook we pick up the result of our hyper parameter selection and evaluate the best model we could fine. \n",
    "\n",
    "The goal of the evaluation is twoffold:\n",
    "1) Evaluate how good the model is at predicting pokemon types.\n",
    "2) identify improvement potential that could be explored in future experiments."
   ]
  },
  {
   "cell_type": "code",
   "execution_count": 22,
   "metadata": {},
   "outputs": [],
   "source": [
    "# correct working directory only once \n",
    "if not \"working_directory_corrected\" in vars():\n",
    "    %cd ..\n",
    "    working_directory_corrected = True\n",
    "\n",
    "import pandas as pd\n",
    "import numpy as np\n",
    "import tensorflow as tf\n",
    "import matplotlib.pyplot as plot\n",
    "\n",
    "from keras.preprocessing.image import ImageDataGenerator\n",
    "from sklearn.model_selection import train_test_split\n",
    "\n",
    "from models.Majority_Guessing_Benchmark import MajorityGuessingBenchmark\n",
    "from evaluation.evaluation_metrics import EvaluationMetrics\n",
    "from models.CNN_Builder import CNNBuilder\n",
    "from data.dataset import Dataset\n",
    "dataset = Dataset()\n"
   ]
  },
  {
   "attachments": {},
   "cell_type": "markdown",
   "metadata": {},
   "source": [
    "## Running the best model\n",
    "\n",
    "Let's train the best model now. \n",
    "For training we use the same train-test split that has been used during the hyper-parameter selection (random state 7)."
   ]
  },
  {
   "cell_type": "code",
   "execution_count": 10,
   "metadata": {},
   "outputs": [
    {
     "name": "stderr",
     "output_type": "stream",
     "text": [
      "C:\\Users\\frank\\AppData\\Local\\Temp\\ipykernel_24452\\3567441712.py:22: UserWarning: `Model.fit_generator` is deprecated and will be removed in a future version. Please use `Model.fit`, which supports generators.\n",
      "  history = model.fit_generator(train_generator, epochs=100, validation_data=(X_test, y_test), callbacks=[early_stopping], verbose=1)\n"
     ]
    },
    {
     "name": "stdout",
     "output_type": "stream",
     "text": [
      "Epoch 1/100\n",
      "21/21 [==============================] - 6s 275ms/step - loss: 0.4232 - val_loss: 0.3610\n",
      "Epoch 2/100\n",
      "21/21 [==============================] - 6s 268ms/step - loss: 0.3412 - val_loss: 0.3108\n",
      "Epoch 3/100\n",
      "21/21 [==============================] - 6s 300ms/step - loss: 0.3070 - val_loss: 0.2891\n",
      "Epoch 4/100\n",
      "21/21 [==============================] - 6s 265ms/step - loss: 0.2935 - val_loss: 0.2794\n",
      "Epoch 5/100\n",
      "21/21 [==============================] - 6s 270ms/step - loss: 0.2870 - val_loss: 0.2760\n",
      "Epoch 6/100\n",
      "21/21 [==============================] - 5s 245ms/step - loss: 0.2844 - val_loss: 0.2729\n",
      "Epoch 7/100\n",
      "21/21 [==============================] - 5s 255ms/step - loss: 0.2828 - val_loss: 0.2720\n",
      "Epoch 8/100\n",
      "21/21 [==============================] - 6s 274ms/step - loss: 0.2817 - val_loss: 0.2726\n",
      "Epoch 9/100\n",
      "21/21 [==============================] - 6s 256ms/step - loss: 0.2809 - val_loss: 0.2734\n",
      "Epoch 10/100\n",
      "21/21 [==============================] - 5s 241ms/step - loss: 0.2810 - val_loss: 0.2720\n",
      "Epoch 11/100\n",
      "21/21 [==============================] - 5s 241ms/step - loss: 0.2799 - val_loss: 0.2716\n",
      "Epoch 12/100\n",
      "21/21 [==============================] - 5s 234ms/step - loss: 0.2803 - val_loss: 0.2697\n",
      "Epoch 13/100\n",
      "21/21 [==============================] - 5s 242ms/step - loss: 0.2776 - val_loss: 0.2691\n",
      "Epoch 14/100\n",
      "21/21 [==============================] - 5s 228ms/step - loss: 0.2771 - val_loss: 0.2681\n",
      "Epoch 15/100\n",
      "21/21 [==============================] - 5s 221ms/step - loss: 0.2744 - val_loss: 0.2676\n",
      "Epoch 16/100\n",
      "21/21 [==============================] - 5s 253ms/step - loss: 0.2748 - val_loss: 0.2664\n",
      "Epoch 17/100\n",
      "21/21 [==============================] - 6s 273ms/step - loss: 0.2753 - val_loss: 0.2652\n",
      "Epoch 18/100\n",
      "21/21 [==============================] - 6s 302ms/step - loss: 0.2725 - val_loss: 0.2654\n",
      "Epoch 19/100\n",
      "21/21 [==============================] - 6s 246ms/step - loss: 0.2721 - val_loss: 0.2639\n",
      "Epoch 20/100\n",
      "21/21 [==============================] - 5s 240ms/step - loss: 0.2719 - val_loss: 0.2634\n",
      "Epoch 21/100\n",
      "21/21 [==============================] - 6s 284ms/step - loss: 0.2706 - val_loss: 0.2642\n",
      "Epoch 22/100\n",
      "21/21 [==============================] - 7s 307ms/step - loss: 0.2703 - val_loss: 0.2633\n",
      "Epoch 23/100\n",
      "21/21 [==============================] - 6s 276ms/step - loss: 0.2692 - val_loss: 0.2626\n",
      "Epoch 24/100\n",
      "21/21 [==============================] - 6s 290ms/step - loss: 0.2693 - val_loss: 0.2641\n",
      "Epoch 25/100\n",
      "21/21 [==============================] - 5s 247ms/step - loss: 0.2687 - val_loss: 0.2623\n",
      "Epoch 26/100\n",
      "21/21 [==============================] - 6s 263ms/step - loss: 0.2670 - val_loss: 0.2638\n",
      "Epoch 27/100\n",
      "21/21 [==============================] - 6s 302ms/step - loss: 0.2677 - val_loss: 0.2626\n",
      "Epoch 28/100\n",
      "21/21 [==============================] - 5s 250ms/step - loss: 0.2669 - val_loss: 0.2628\n",
      "Epoch 29/100\n",
      "21/21 [==============================] - 5s 227ms/step - loss: 0.2662 - val_loss: 0.2648\n",
      "Epoch 30/100\n",
      "21/21 [==============================] - 6s 264ms/step - loss: 0.2674 - val_loss: 0.2621\n",
      "Epoch 31/100\n",
      "21/21 [==============================] - 5s 253ms/step - loss: 0.2650 - val_loss: 0.2612\n",
      "Epoch 32/100\n",
      "21/21 [==============================] - 5s 228ms/step - loss: 0.2632 - val_loss: 0.2614\n",
      "Epoch 33/100\n",
      "21/21 [==============================] - 5s 216ms/step - loss: 0.2627 - val_loss: 0.2628\n",
      "Epoch 34/100\n",
      "21/21 [==============================] - 5s 213ms/step - loss: 0.2622 - val_loss: 0.2622\n",
      "Epoch 35/100\n",
      "21/21 [==============================] - 5s 214ms/step - loss: 0.2632 - val_loss: 0.2618\n",
      "Epoch 36/100\n",
      "21/21 [==============================] - 5s 227ms/step - loss: 0.2613 - val_loss: 0.2628\n",
      "Epoch 37/100\n",
      "21/21 [==============================] - 5s 221ms/step - loss: 0.2612 - val_loss: 0.2609\n",
      "Epoch 38/100\n",
      "21/21 [==============================] - 5s 221ms/step - loss: 0.2605 - val_loss: 0.2605\n",
      "Epoch 39/100\n",
      "21/21 [==============================] - 5s 223ms/step - loss: 0.2610 - val_loss: 0.2623\n",
      "Epoch 40/100\n",
      "21/21 [==============================] - 5s 226ms/step - loss: 0.2603 - val_loss: 0.2617\n",
      "Epoch 41/100\n",
      "21/21 [==============================] - 5s 236ms/step - loss: 0.2645 - val_loss: 0.2610\n",
      "Epoch 42/100\n",
      "21/21 [==============================] - 5s 226ms/step - loss: 0.2611 - val_loss: 0.2601\n",
      "Epoch 43/100\n",
      "21/21 [==============================] - 5s 219ms/step - loss: 0.2590 - val_loss: 0.2584\n",
      "Epoch 44/100\n",
      "21/21 [==============================] - 5s 223ms/step - loss: 0.2584 - val_loss: 0.2605\n",
      "Epoch 45/100\n",
      "21/21 [==============================] - 5s 233ms/step - loss: 0.2582 - val_loss: 0.2596\n",
      "Epoch 46/100\n",
      "21/21 [==============================] - 5s 220ms/step - loss: 0.2590 - val_loss: 0.2584\n",
      "Epoch 47/100\n",
      "21/21 [==============================] - 5s 218ms/step - loss: 0.2586 - val_loss: 0.2582\n",
      "Epoch 48/100\n",
      "21/21 [==============================] - 5s 229ms/step - loss: 0.2593 - val_loss: 0.2597\n",
      "Epoch 49/100\n",
      "21/21 [==============================] - 5s 220ms/step - loss: 0.2580 - val_loss: 0.2611\n",
      "Epoch 50/100\n",
      "21/21 [==============================] - 5s 230ms/step - loss: 0.2578 - val_loss: 0.2591\n",
      "Epoch 51/100\n",
      "21/21 [==============================] - 5s 221ms/step - loss: 0.2574 - val_loss: 0.2603\n",
      "Epoch 52/100\n",
      "21/21 [==============================] - 5s 221ms/step - loss: 0.2567 - val_loss: 0.2589\n",
      "Epoch 53/100\n",
      "21/21 [==============================] - 5s 224ms/step - loss: 0.2568 - val_loss: 0.2593\n",
      "Epoch 54/100\n",
      "21/21 [==============================] - 5s 219ms/step - loss: 0.2556 - val_loss: 0.2576\n",
      "Epoch 55/100\n",
      "21/21 [==============================] - 5s 219ms/step - loss: 0.2569 - val_loss: 0.2599\n",
      "Epoch 56/100\n",
      "21/21 [==============================] - 5s 223ms/step - loss: 0.2551 - val_loss: 0.2602\n",
      "Epoch 57/100\n",
      "21/21 [==============================] - 5s 222ms/step - loss: 0.2575 - val_loss: 0.2587\n",
      "Epoch 58/100\n",
      "21/21 [==============================] - 5s 218ms/step - loss: 0.2571 - val_loss: 0.2607\n",
      "Epoch 59/100\n",
      "21/21 [==============================] - 5s 221ms/step - loss: 0.2563 - val_loss: 0.2630\n",
      "Epoch 60/100\n",
      "21/21 [==============================] - 5s 221ms/step - loss: 0.2566 - val_loss: 0.2596\n",
      "Epoch 61/100\n",
      "21/21 [==============================] - 5s 228ms/step - loss: 0.2557 - val_loss: 0.2608\n",
      "Epoch 62/100\n",
      "21/21 [==============================] - 5s 219ms/step - loss: 0.2550 - val_loss: 0.2588\n",
      "Epoch 63/100\n",
      "21/21 [==============================] - 5s 226ms/step - loss: 0.2551 - val_loss: 0.2613\n",
      "Epoch 64/100\n",
      "21/21 [==============================] - 5s 219ms/step - loss: 0.2542 - val_loss: 0.2598\n",
      "Epoch 65/100\n",
      "21/21 [==============================] - 5s 225ms/step - loss: 0.2529 - val_loss: 0.2578\n",
      "Epoch 66/100\n",
      "21/21 [==============================] - 5s 229ms/step - loss: 0.2525 - val_loss: 0.2598\n",
      "Epoch 67/100\n",
      "21/21 [==============================] - 5s 217ms/step - loss: 0.2534 - val_loss: 0.2591\n",
      "Epoch 68/100\n",
      "21/21 [==============================] - 5s 220ms/step - loss: 0.2541 - val_loss: 0.2594\n",
      "Epoch 69/100\n",
      "21/21 [==============================] - 5s 222ms/step - loss: 0.2539 - val_loss: 0.2596\n",
      "Epoch 70/100\n",
      "21/21 [==============================] - 5s 222ms/step - loss: 0.2540 - val_loss: 0.2600\n",
      "Epoch 71/100\n",
      "21/21 [==============================] - 5s 223ms/step - loss: 0.2532 - val_loss: 0.2580\n",
      "Epoch 72/100\n",
      "21/21 [==============================] - 5s 219ms/step - loss: 0.2549 - val_loss: 0.2593\n",
      "Epoch 73/100\n",
      "21/21 [==============================] - 6s 265ms/step - loss: 0.2517 - val_loss: 0.2589\n",
      "Epoch 74/100\n",
      "21/21 [==============================] - 6s 282ms/step - loss: 0.2509 - val_loss: 0.2598\n",
      "21/21 [==============================] - 1s 61ms/step\n",
      "6/6 [==============================] - 0s 39ms/step\n"
     ]
    }
   ],
   "source": [
    "X, y = dataset.get_prepared_data()\n",
    "X_train, X_test, y_train, y_test = train_test_split(X, y, test_size=0.2, random_state = 7)\n",
    "y_train = np.array(object=[y_train[i] for i in range(len(y_train))])\n",
    "\n",
    "train_datagen = ImageDataGenerator(\n",
    "                            rotation_range=30, \n",
    "                            width_shift_range=0.1, \n",
    "                            height_shift_range=0.1, \n",
    "                            fill_mode=\"nearest\"\n",
    "                        )\n",
    "train_generator = train_datagen.flow(X_train,y_train)\n",
    "\n",
    "cnn_builder = CNNBuilder(\n",
    "                            convolutional_layers=[16],\n",
    "                            fully_connected_layers=[250],\n",
    "                            in_shape=(X_train.shape[1], X_train.shape[2], X_train.shape[3]),\n",
    "                            out_shape=y_train.shape[1]\n",
    "                        )\n",
    "model = cnn_builder.build_model()\n",
    "\n",
    "early_stopping = tf.keras.callbacks.EarlyStopping(monitor=\"val_loss\", patience=20, restore_best_weights=True)\n",
    "history = model.fit_generator(train_generator, epochs=100, validation_data=(X_test, y_test), callbacks=[early_stopping], verbose=1)\n",
    "\n",
    "y_pred = model.predict(x=X_train) > 0.15\n",
    "train_metrics = EvaluationMetrics(y_true=y_train, y_pred=y_pred)   # type: ignore\n",
    "\n",
    "y_pred_test = model.predict(x=X_test) > 0.15\n",
    "test_metrics = EvaluationMetrics(y_true=y_test, y_pred=y_pred_test)    # type: ignore\n",
    "\n"
   ]
  },
  {
   "attachments": {},
   "cell_type": "markdown",
   "metadata": {},
   "source": [
    "Below we build a few dataframes that we will use for the comparisons"
   ]
  },
  {
   "cell_type": "code",
   "execution_count": 48,
   "metadata": {},
   "outputs": [],
   "source": [
    "model = MajorityGuessingBenchmark(dataset.get_labels(), \"Water\")\n",
    "y_pred_test = model.predict(X=X_test) # type: ignore\n",
    "majority_test_metrics = EvaluationMetrics(y_true=y_test, y_pred=y_pred_test)  # type: ignore\n",
    "\n",
    "score_dataframe = pd.DataFrame({ \n",
    "                        \"model\":[\"Majority Guessing\", \"CNN(training)\",\"CNN(test)\"],\n",
    "                        \"subset accuracy\":[majority_test_metrics.subset_accuracy, train_metrics.subset_accuracy, test_metrics.subset_accuracy],\n",
    "                        \"hamming score\":[majority_test_metrics.hamming_score, train_metrics.hamming_score, test_metrics.hamming_score]\n",
    "                        })\n",
    "\n",
    "\n",
    "f1_dataframe = pd.DataFrame(dataset.get_labels(),columns=[\"type\"])\n",
    "f1_dataframe[\"f1_train\"] = train_metrics.f1_scores\n",
    "f1_dataframe[\"f1_test\"] = test_metrics.f1_scores\n",
    "f1_dataframe[\"count\"] = [np.count_nonzero(y_test[index] >0) for index in range(len(dataset.get_labels()))]"
   ]
  },
  {
   "attachments": {},
   "cell_type": "markdown",
   "metadata": {},
   "source": [
    "## Accuracy and Hamming Score\n",
    "Here we observe the results we achieved with our model.\n",
    "\n",
    "First, let's compare our scores against the naive benachmark of majority guessing:\n"
   ]
  },
  {
   "cell_type": "code",
   "execution_count": 50,
   "metadata": {},
   "outputs": [
    {
     "data": {
      "text/html": [
       "<div>\n",
       "<style scoped>\n",
       "    .dataframe tbody tr th:only-of-type {\n",
       "        vertical-align: middle;\n",
       "    }\n",
       "\n",
       "    .dataframe tbody tr th {\n",
       "        vertical-align: top;\n",
       "    }\n",
       "\n",
       "    .dataframe thead th {\n",
       "        text-align: right;\n",
       "    }\n",
       "</style>\n",
       "<table border=\"1\" class=\"dataframe\">\n",
       "  <thead>\n",
       "    <tr style=\"text-align: right;\">\n",
       "      <th></th>\n",
       "      <th>model</th>\n",
       "      <th>subset accuracy</th>\n",
       "      <th>hamming score</th>\n",
       "    </tr>\n",
       "  </thead>\n",
       "  <tbody>\n",
       "    <tr>\n",
       "      <th>0</th>\n",
       "      <td>Majority Guessing</td>\n",
       "      <td>9</td>\n",
       "      <td>0.14</td>\n",
       "    </tr>\n",
       "    <tr>\n",
       "      <th>2</th>\n",
       "      <td>CNN(test)</td>\n",
       "      <td>8</td>\n",
       "      <td>0.18</td>\n",
       "    </tr>\n",
       "  </tbody>\n",
       "</table>\n",
       "</div>"
      ],
      "text/plain": [
       "               model  subset accuracy  hamming score\n",
       "0  Majority Guessing                9           0.14\n",
       "2          CNN(test)                8           0.18"
      ]
     },
     "execution_count": 50,
     "metadata": {},
     "output_type": "execute_result"
    }
   ],
   "source": [
    "score_dataframe[score_dataframe[\"model\"].isin([\"Majority Guessing\",\"CNN(test)\"])]"
   ]
  },
  {
   "attachments": {},
   "cell_type": "markdown",
   "metadata": {},
   "source": [
    "TODO: Discuss comparison"
   ]
  },
  {
   "attachments": {},
   "cell_type": "markdown",
   "metadata": {},
   "source": [
    "## F1 Scores\n",
    "\n",
    "Here we look at the F1 scores class by class to get some insights into how our model performs in the respective classes.\n",
    "\n",
    "First off, let's look at the F1 scores for each type of pokemon and also observe how often this image is contained in the test set. "
   ]
  },
  {
   "cell_type": "code",
   "execution_count": 57,
   "metadata": {},
   "outputs": [
    {
     "data": {
      "text/html": [
       "<div>\n",
       "<style scoped>\n",
       "    .dataframe tbody tr th:only-of-type {\n",
       "        vertical-align: middle;\n",
       "    }\n",
       "\n",
       "    .dataframe tbody tr th {\n",
       "        vertical-align: top;\n",
       "    }\n",
       "\n",
       "    .dataframe thead th {\n",
       "        text-align: right;\n",
       "    }\n",
       "</style>\n",
       "<table border=\"1\" class=\"dataframe\">\n",
       "  <thead>\n",
       "    <tr style=\"text-align: right;\">\n",
       "      <th></th>\n",
       "      <th>type</th>\n",
       "      <th>f1_test</th>\n",
       "      <th>count</th>\n",
       "    </tr>\n",
       "  </thead>\n",
       "  <tbody>\n",
       "    <tr>\n",
       "      <th>0</th>\n",
       "      <td>Bug</td>\n",
       "      <td>0.206897</td>\n",
       "      <td>1</td>\n",
       "    </tr>\n",
       "    <tr>\n",
       "      <th>1</th>\n",
       "      <td>Dark</td>\n",
       "      <td>0.000000</td>\n",
       "      <td>2</td>\n",
       "    </tr>\n",
       "    <tr>\n",
       "      <th>2</th>\n",
       "      <td>Dragon</td>\n",
       "      <td>0.142857</td>\n",
       "      <td>2</td>\n",
       "    </tr>\n",
       "    <tr>\n",
       "      <th>3</th>\n",
       "      <td>Electric</td>\n",
       "      <td>0.000000</td>\n",
       "      <td>2</td>\n",
       "    </tr>\n",
       "    <tr>\n",
       "      <th>4</th>\n",
       "      <td>Fairy</td>\n",
       "      <td>0.000000</td>\n",
       "      <td>1</td>\n",
       "    </tr>\n",
       "    <tr>\n",
       "      <th>5</th>\n",
       "      <td>Fighting</td>\n",
       "      <td>0.000000</td>\n",
       "      <td>1</td>\n",
       "    </tr>\n",
       "    <tr>\n",
       "      <th>6</th>\n",
       "      <td>Fire</td>\n",
       "      <td>0.322581</td>\n",
       "      <td>1</td>\n",
       "    </tr>\n",
       "    <tr>\n",
       "      <th>7</th>\n",
       "      <td>Flying</td>\n",
       "      <td>0.058824</td>\n",
       "      <td>2</td>\n",
       "    </tr>\n",
       "    <tr>\n",
       "      <th>8</th>\n",
       "      <td>Ghost</td>\n",
       "      <td>0.000000</td>\n",
       "      <td>1</td>\n",
       "    </tr>\n",
       "    <tr>\n",
       "      <th>9</th>\n",
       "      <td>Grass</td>\n",
       "      <td>0.514286</td>\n",
       "      <td>2</td>\n",
       "    </tr>\n",
       "    <tr>\n",
       "      <th>10</th>\n",
       "      <td>Ground</td>\n",
       "      <td>0.000000</td>\n",
       "      <td>1</td>\n",
       "    </tr>\n",
       "    <tr>\n",
       "      <th>11</th>\n",
       "      <td>Ice</td>\n",
       "      <td>0.000000</td>\n",
       "      <td>1</td>\n",
       "    </tr>\n",
       "    <tr>\n",
       "      <th>12</th>\n",
       "      <td>Normal</td>\n",
       "      <td>0.225806</td>\n",
       "      <td>1</td>\n",
       "    </tr>\n",
       "    <tr>\n",
       "      <th>13</th>\n",
       "      <td>Poison</td>\n",
       "      <td>0.000000</td>\n",
       "      <td>1</td>\n",
       "    </tr>\n",
       "    <tr>\n",
       "      <th>14</th>\n",
       "      <td>Psychic</td>\n",
       "      <td>0.000000</td>\n",
       "      <td>2</td>\n",
       "    </tr>\n",
       "    <tr>\n",
       "      <th>15</th>\n",
       "      <td>Rock</td>\n",
       "      <td>0.111111</td>\n",
       "      <td>2</td>\n",
       "    </tr>\n",
       "    <tr>\n",
       "      <th>16</th>\n",
       "      <td>Steel</td>\n",
       "      <td>0.000000</td>\n",
       "      <td>1</td>\n",
       "    </tr>\n",
       "    <tr>\n",
       "      <th>17</th>\n",
       "      <td>Water</td>\n",
       "      <td>0.506329</td>\n",
       "      <td>1</td>\n",
       "    </tr>\n",
       "  </tbody>\n",
       "</table>\n",
       "</div>"
      ],
      "text/plain": [
       "        type   f1_test  count\n",
       "0        Bug  0.206897      1\n",
       "1       Dark  0.000000      2\n",
       "2     Dragon  0.142857      2\n",
       "3   Electric  0.000000      2\n",
       "4      Fairy  0.000000      1\n",
       "5   Fighting  0.000000      1\n",
       "6       Fire  0.322581      1\n",
       "7     Flying  0.058824      2\n",
       "8      Ghost  0.000000      1\n",
       "9      Grass  0.514286      2\n",
       "10    Ground  0.000000      1\n",
       "11       Ice  0.000000      1\n",
       "12    Normal  0.225806      1\n",
       "13    Poison  0.000000      1\n",
       "14   Psychic  0.000000      2\n",
       "15      Rock  0.111111      2\n",
       "16     Steel  0.000000      1\n",
       "17     Water  0.506329      1"
      ]
     },
     "execution_count": 57,
     "metadata": {},
     "output_type": "execute_result"
    }
   ],
   "source": [
    "f1_dataframe.drop(labels=[\"f1_train\"], axis = 1, inplace=False)"
   ]
  },
  {
   "attachments": {},
   "cell_type": "markdown",
   "metadata": {},
   "source": [
    "As can be seen, each class is contained in the test set but only with a low number of samples. This is due to the small size of our dataset. \n",
    "\n",
    "The F1 scores of the respective classes are diverse. Visualized in a bar plot, they look like this: "
   ]
  },
  {
   "cell_type": "code",
   "execution_count": 59,
   "metadata": {},
   "outputs": [
    {
     "data": {
      "image/png": "[encoded data removed]",
      "text/plain": [
       "<Figure size 640x480 with 1 Axes>"
      ]
     },
     "metadata": {},
     "output_type": "display_data"
    }
   ],
   "source": [
    "f1_dataframe.plot.bar(x=\"type\", y=[\"f1_test\"], rot=70, title=\"F1 scores per pokémon type\");\n",
    "plot.show(block=True);"
   ]
  },
  {
   "attachments": {},
   "cell_type": "markdown",
   "metadata": {},
   "source": [
    "TODO: interpret graphs"
   ]
  },
  {
   "attachments": {},
   "cell_type": "markdown",
   "metadata": {},
   "source": [
    "## Overfitting\n",
    "Here we observe, whether our model exhibits overfitting. For this purpose, we compare the results on training and test set. \n",
    "\n",
    "Below, we compare the scores between our training and test set."
   ]
  },
  {
   "cell_type": "code",
   "execution_count": 60,
   "metadata": {},
   "outputs": [
    {
     "data": {
      "text/html": [
       "<div>\n",
       "<style scoped>\n",
       "    .dataframe tbody tr th:only-of-type {\n",
       "        vertical-align: middle;\n",
       "    }\n",
       "\n",
       "    .dataframe tbody tr th {\n",
       "        vertical-align: top;\n",
       "    }\n",
       "\n",
       "    .dataframe thead th {\n",
       "        text-align: right;\n",
       "    }\n",
       "</style>\n",
       "<table border=\"1\" class=\"dataframe\">\n",
       "  <thead>\n",
       "    <tr style=\"text-align: right;\">\n",
       "      <th></th>\n",
       "      <th>model</th>\n",
       "      <th>subset accuracy</th>\n",
       "      <th>hamming score</th>\n",
       "    </tr>\n",
       "  </thead>\n",
       "  <tbody>\n",
       "    <tr>\n",
       "      <th>0</th>\n",
       "      <td>Majority Guessing</td>\n",
       "      <td>9</td>\n",
       "      <td>0.14</td>\n",
       "    </tr>\n",
       "    <tr>\n",
       "      <th>1</th>\n",
       "      <td>CNN(training)</td>\n",
       "      <td>11</td>\n",
       "      <td>0.23</td>\n",
       "    </tr>\n",
       "    <tr>\n",
       "      <th>2</th>\n",
       "      <td>CNN(test)</td>\n",
       "      <td>8</td>\n",
       "      <td>0.18</td>\n",
       "    </tr>\n",
       "  </tbody>\n",
       "</table>\n",
       "</div>"
      ],
      "text/plain": [
       "               model  subset accuracy  hamming score\n",
       "0  Majority Guessing                9           0.14\n",
       "1      CNN(training)               11           0.23\n",
       "2          CNN(test)                8           0.18"
      ]
     },
     "execution_count": 60,
     "metadata": {},
     "output_type": "execute_result"
    }
   ],
   "source": [
    "score_dataframe"
   ]
  },
  {
   "attachments": {},
   "cell_type": "markdown",
   "metadata": {},
   "source": [
    "TODO: Discuss"
   ]
  },
  {
   "attachments": {},
   "cell_type": "markdown",
   "metadata": {},
   "source": [
    "In the below cell we plot the F1 scores for each class for training and test set."
   ]
  },
  {
   "cell_type": "code",
   "execution_count": 62,
   "metadata": {},
   "outputs": [
    {
     "data": {
      "image/png": "[encoded data removed]",
      "text/plain": [
       "<Figure size 640x480 with 1 Axes>"
      ]
     },
     "metadata": {},
     "output_type": "display_data"
    }
   ],
   "source": [
    "f1_dataframe.plot.bar(x=\"type\", y=[\"f1_test\", \"f1_train\"], rot=70, title=\"F1 scores per pokémon type\");\n",
    "plot.show(block=True);"
   ]
  },
  {
   "attachments": {},
   "cell_type": "markdown",
   "metadata": {},
   "source": [
    "TODO: discussion"
   ]
  },
  {
   "attachments": {},
   "cell_type": "markdown",
   "metadata": {},
   "source": [
    "Our training process was configured to return the model at the optimal state for the test scores. This means, if the model overfit to the training set after ths point, it is not reflected in the above scores. To have a chance to observe this, our training was configured to run for 25 steps after the best test loss. \n",
    "\n",
    "Below is a comparision of the training and test loss over the whole training duration:"
   ]
  },
  {
   "cell_type": "code",
   "execution_count": 64,
   "metadata": {},
   "outputs": [
    {
     "data": {
      "image/png": "[encoded data removed]",
      "text/plain": [
       "<Figure size 640x480 with 1 Axes>"
      ]
     },
     "metadata": {},
     "output_type": "display_data"
    }
   ],
   "source": [
    "# plot training history\n",
    "plot.plot(history.history[\"loss\"], label=\"training loss\")\n",
    "plot.plot(history.history[\"val_loss\"], label=\"test loss\")\n",
    "plot.title(\"loss function\")\n",
    "plot.ylabel(\"loss\")\n",
    "plot.xlabel(\"epoch\")\n",
    "plot.show()"
   ]
  },
  {
   "attachments": {},
   "cell_type": "markdown",
   "metadata": {},
   "source": [
    "TODO: Discuss \n",
    "\n",
    "TODO: conclusions on Overfitting."
   ]
  },
  {
   "attachments": {},
   "cell_type": "markdown",
   "metadata": {},
   "source": [
    "## Conclusions\n",
    "\n",
    "TODO: conclusions."
   ]
  }
 ],
 "metadata": {
  "kernelspec": {
   "display_name": "environment",
   "language": "python",
   "name": "python3"
  },
  "language_info": {
   "codemirror_mode": {
    "name": "ipython",
    "version": 3
   },
   "file_extension": ".py",
   "mimetype": "text/x-python",
   "name": "python",
   "nbconvert_exporter": "python",
   "pygments_lexer": "ipython3",
   "version": "3.10.7 (tags/v3.10.7:6cc6b13, Sep  5 2022, 14:08:36) [MSC v.1933 64 bit (AMD64)]"
  },
  "orig_nbformat": 4,
  "vscode": {
   "interpreter": {
    "hash": "ab53a7abb5f76d8f9c9452b407a178cf94cc8aab5c0c1e9a6f1a2d94a40aba45"
   }
  }
 },
 "nbformat": 4,
 "nbformat_minor": 2
}
